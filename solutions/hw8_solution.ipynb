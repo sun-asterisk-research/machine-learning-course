{
  "nbformat": 4,
  "nbformat_minor": 0,
  "metadata": {
    "colab": {
      "name": "solution.ipynb",
      "provenance": []
    },
    "kernelspec": {
      "name": "python3",
      "display_name": "Python 3"
    }
  },
  "cells": [
    {
      "cell_type": "code",
      "metadata": {
        "id": "RBY1on3LWOtm"
      },
      "source": [
        "import numpy as np \n",
        "import matplotlib.pyplot as plt\n",
        "\n",
        "# Compute distance between each pair of the two collections of inputs\n",
        "from scipy.spatial.distance import cdist\n",
        "np.random.seed(1)"
      ],
      "execution_count": 14,
      "outputs": []
    },
    {
      "cell_type": "code",
      "metadata": {
        "id": "mozRABnrWVup"
      },
      "source": [
        "means = [[1, 1], [5, 4]]\n",
        "cov = [[.5, .3], [.3, .5]]\n",
        "N = 20\n",
        "X0 = np.random.multivariate_normal(means[0], cov, N)\n",
        "X1 = np.random.multivariate_normal(means[1], cov, N)\n",
        "X = np.vstack((X0, X1)).T\n",
        "y = np.hstack((np.ones((1, N)), -1*np.ones((1, N))))"
      ],
      "execution_count": 15,
      "outputs": []
    },
    {
      "cell_type": "code",
      "metadata": {
        "colab": {
          "base_uri": "https://localhost:8080/"
        },
        "id": "svBwnosaWZoA",
        "outputId": "0db6403f-fd3e-4565-a3fc-eb2ad57f59cf"
      },
      "source": [
        "from cvxopt import matrix, solvers\n",
        "# build K\n",
        "V = np.vstack((X0, -X1)).T\n",
        "K = matrix(V.T.dot(V))\n",
        "\n",
        "p = matrix(-np.ones((2*N, 1)))\n",
        "# build A, b, G, h \n",
        "G = matrix(-np.eye(2*N))\n",
        "h = matrix(np.zeros((2*N, 1)))\n",
        "A = matrix(y) \n",
        "b = matrix(np.zeros((1, 1))) \n",
        "solvers.options['show_progress'] = False\n",
        "sol = solvers.qp(K, p, G, h, A, b)\n",
        "\n",
        "alpha = np.array(sol['x'])\n",
        "print('alpha = \\n', alpha.T)"
      ],
      "execution_count": 16,
      "outputs": [
        {
          "output_type": "stream",
          "text": [
            "alpha = \n",
            " [[3.65499256e-11 3.42920028e-09 9.93762047e-11 3.58936165e-11\n",
            "  6.88716585e-11 5.52013549e-11 1.61932498e-10 5.14402599e-11\n",
            "  1.92150295e-10 6.39015783e-11 1.81158769e-10 3.95295240e-11\n",
            "  5.26558960e-11 1.82316190e-10 8.53343638e-11 5.95884807e-10\n",
            "  3.54640533e-08 2.35331429e-10 3.30813550e-01 2.85935951e-11\n",
            "  3.93594879e-11 5.36657100e-11 4.66338765e-11 1.83408344e-10\n",
            "  7.09641033e-11 5.85700831e-11 3.06257549e-11 5.50930695e-11\n",
            "  2.93674901e-10 9.44457510e-11 4.78634464e-11 7.03707378e-11\n",
            "  7.51624247e-11 1.43593234e-05 3.30799231e-01 2.74799803e-11\n",
            "  8.19228403e-11 3.92896161e-11 5.54639576e-11 8.36484108e-11]]\n"
          ],
          "name": "stdout"
        }
      ]
    },
    {
      "cell_type": "code",
      "metadata": {
        "id": "J6Sx-_xmXwf_"
      },
      "source": [
        "# Finding support vector\n",
        "epsilon = 1e-5 # just a small number, greater than 1e-9\n",
        "S = np.where(alpha > epsilon)[0]\n",
        "alphaS = alpha[S]"
      ],
      "execution_count": 17,
      "outputs": []
    },
    {
      "cell_type": "code",
      "metadata": {
        "colab": {
          "base_uri": "https://localhost:8080/"
        },
        "id": "l7fCSai5jamT",
        "outputId": "5a0ccb50-66a8-484f-b235-7fb1e3a5919c"
      },
      "source": [
        "alphaS"
      ],
      "execution_count": 18,
      "outputs": [
        {
          "output_type": "execute_result",
          "data": {
            "text/plain": [
              "array([[3.30813550e-01],\n",
              "       [1.43593234e-05],\n",
              "       [3.30799231e-01]])"
            ]
          },
          "metadata": {
            "tags": []
          },
          "execution_count": 18
        }
      ]
    },
    {
      "cell_type": "code",
      "metadata": {
        "colab": {
          "base_uri": "https://localhost:8080/"
        },
        "id": "VGJsCyz4WcH3",
        "outputId": "5385210f-b5ba-40d0-9e62-beb8593e9e15"
      },
      "source": [
        "VS = V[:, S]\n",
        "XS = X[:, S]\n",
        "yS = y[:, S]\n",
        "# calculate w and b\n",
        "### your code is here\n",
        "w = VS.dot(alphaS)\n",
        "b = np.mean(yS.T - w.T.dot(XS))\n",
        "###########\n",
        "\n",
        "\n",
        "print('w = ', w.T)\n",
        "print('b = ', b)"
      ],
      "execution_count": 19,
      "outputs": [
        {
          "output_type": "stream",
          "text": [
            "w =  [[-0.80281855 -0.13080407]]\n",
            "b =  2.5444120388856324\n"
          ],
          "name": "stdout"
        }
      ]
    },
    {
      "cell_type": "code",
      "metadata": {
        "colab": {
          "base_uri": "https://localhost:8080/",
          "height": 598
        },
        "id": "eWuoHB_RWgb3",
        "outputId": "93099150-aa76-46c4-8c5c-1104adb81fd1"
      },
      "source": [
        "def plot(w, b, X0, X1, X, S):\n",
        "  fig, ax = plt.subplots(figsize=(10,10))\n",
        "  x1 = np.arange(-10, 10, 0.1)\n",
        "  y1 = -w[0, 0]/w[1, 0]*x1 - b/w[1, 0]\n",
        "  y2 = -w[0, 0]/w[1, 0]*x1 - (b-1)/w[1, 0]\n",
        "  y3 = -w[0, 0]/w[1, 0]*x1 - (b+1)/w[1, 0]\n",
        "  plt.plot(x1, y1, 'k', linewidth = 3)\n",
        "  plt.plot(x1, y2, 'k')\n",
        "  plt.plot(x1, y3, 'k')\n",
        "\n",
        "\n",
        "  # y4 = 10*x1\n",
        "  # plt.plot(x1, y1, 'k')\n",
        "  # plt.fill_between(x1, y1, color='red', alpha=0.1)\n",
        "  # plt.fill_between(x1, y1, y4, color = 'blue', alpha = .1)\n",
        "\n",
        "\n",
        "  plt.plot(X0[:, 0], X0[:, 1], 'bs', markersize = 8, alpha = .8)\n",
        "  plt.plot(X1[:, 0], X1[:, 1], 'ro', markersize = 8, alpha = .8)\n",
        "\n",
        "  plt.axis('equal')\n",
        "  plt.ylim(np.min(X[1, :])*1.05, np.max(X[1, :])*1.05)\n",
        "  plt.xlim(np.min(X[0, :])*1.05, np.max(X[0, :])*1.05)\n",
        "\n",
        "  # hide tikcs \n",
        "  cur_axes = plt.gca()\n",
        "  cur_axes.axes.get_xaxis().set_ticks([])\n",
        "  cur_axes.axes.get_yaxis().set_ticks([])\n",
        "\n",
        "  # add circles around support vectors \n",
        "  for m in S:\n",
        "      circle = plt.Circle((X[0, m], X[1, m] ), 0.1, color='k', fill = False)\n",
        "      ax.add_artist(circle)\n",
        "\n",
        "\n",
        "  plt.xlabel('$x_1$', fontsize = 20)\n",
        "  plt.ylabel('$x_2$', fontsize = 20)\n",
        "  plt.show()\n",
        "plot(w, b, X0, X1, X, S)"
      ],
      "execution_count": 20,
      "outputs": [
        {
          "output_type": "display_data",
          "data": {
            "image/png": "[encoded data removed]",
            "text/plain": [
              "<Figure size 720x720 with 1 Axes>"
            ]
          },
          "metadata": {
            "tags": []
          }
        }
      ]
    }
  ]
}