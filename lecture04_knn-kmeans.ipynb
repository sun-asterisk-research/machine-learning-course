{
 "cells": [
  {
   "cell_type": "markdown",
   "metadata": {},
   "source": [
    "# Homework 4: KNN & K-Means\n",
    "Again, fill the ellipses `...` with code, and don't remove `assert` lines."
   ]
  },
  {
   "cell_type": "markdown",
   "metadata": {},
   "source": [
    "### We will use the Iris dataset again.\n",
    "Just goes to show that `sklearn` makes things way too easy."
   ]
  },
  {
   "cell_type": "code",
   "execution_count": 1,
   "metadata": {},
   "outputs": [],
   "source": [
    "# load our dataset\n",
    "from sklearn.datasets import load_iris\n",
    "data = load_iris()\n",
    "X, Y = data['data'], data['target']"
   ]
  },
  {
   "cell_type": "code",
   "execution_count": 2,
   "metadata": {},
   "outputs": [],
   "source": [
    "# split our data into training and testing set with 90:10 ratio\n",
    "# use a fixed random state for reproducible results\n",
    "from sklearn.model_selection import train_test_split\n",
    "x_train, x_test, y_train, y_test = train_test_split(X, Y, test_size=0.1, random_state=42)"
   ]
  },
  {
   "cell_type": "code",
   "execution_count": 3,
   "metadata": {},
   "outputs": [],
   "source": [
    "# z-score normalization.\n",
    "# Remember to scale the training and test set separately to avoid data snooping.\n",
    "# We use the training set's mu and sigma for the test set.\n",
    "from sklearn.preprocessing import StandardScaler\n",
    "scaler = StandardScaler()\n",
    "scaler.fit(x_train)\n",
    "x_train = scaler.transform(x_train)\n",
    "x_test = scaler.transform(x_test)"
   ]
  },
  {
   "cell_type": "markdown",
   "metadata": {},
   "source": [
    "### KNN: $k$-Nearest Neighbors\n",
    "Evaluate the test set with data from the training set.\n",
    "\n",
    "In case of ties, pick the smallest class (i.e. we prefer class 0 to class 1 to class 2)."
   ]
  },
  {
   "cell_type": "code",
   "execution_count": 4,
   "metadata": {},
   "outputs": [],
   "source": [
    "import numpy as np\n",
    "import operator\n",
    "# Remember, no training is needed for KNN!\n",
    "def evaluateKNN_single(k, x_train, y_train, data):\n",
    "    '''\n",
    "    Evaluate the classification for `data` with k-nearest neighbor\n",
    "    given training set (x_train, y_train).\n",
    "\n",
    "    Note that this function takes in one input instead of the whole\n",
    "    testing set.\n",
    "    \n",
    "    Input:\n",
    "        k      : hyperparameter for KNN\n",
    "        x_train: features of training set\n",
    "        y_train: labels of training set\n",
    "        data   : features of the data point to be evaluated\n",
    "    Output:\n",
    "        Classification of the input data point.\n",
    "    '''\n",
    "    \n",
    "    # IMPLEMENT HERE\n",
    "    lst_k = [] # init list of k\n",
    "    dict_weight = dict() # init weight dictionary for k ( weight = 1/ euclidean_distance)\n",
    "    for i in range(k):\n",
    "        min_dis = np.inf\n",
    "        temp_index = 0\n",
    "        for index, x in enumerate(x_train):\n",
    "            distance = np.linalg.norm(x - data)\n",
    "            if distance == 0:\n",
    "                return y_train[index]\n",
    "            elif index not in lst_k:\n",
    "                    if distance < min_dis:\n",
    "                        min_dis = distance\n",
    "                        temp_index = index\n",
    "        lst_k.append(temp_index)      \n",
    "        if str(y_train[temp_index]) not in dict_weight.keys():\n",
    "            dict_weight[str(y_train[temp_index])] = 1/min_dis\n",
    "        else:\n",
    "            dict_weight[str(y_train[temp_index])] = dict_weight[str(y_train[temp_index])] + 1/min_dis\n",
    "    return int(max(dict_weight.items(), key=operator.itemgetter(1))[0])\n",
    "     "
   ]
  },
  {
   "cell_type": "code",
   "execution_count": 5,
   "metadata": {},
   "outputs": [],
   "source": [
    "# Evaluation code for the whole dataset\n",
    "def evaluateKNN(k, x_train=x_train, y_train=y_train, x_test=x_test, y_test=y_test):\n",
    "    correct = sum(map(lambda x: evaluateKNN_single(k, x_train, y_train, x[0]) == x[1], zip(x_test, y_test)))\n",
    "    print(f'Test accuracy with k={k}: {correct/len(y_test)*100:.4f}% ({correct}/{len(y_test)})')\n",
    "    # return the number of correct evaluations for us to check with the solution\n",
    "    return correct"
   ]
  },
  {
   "cell_type": "code",
   "execution_count": 6,
   "metadata": {},
   "outputs": [
    {
     "output_type": "stream",
     "name": "stdout",
     "text": [
      "Test accuracy with k=5: 100.0000% (15/15)\n"
     ]
    }
   ],
   "source": [
    "# and let's see how good is our model with k=5\n",
    "assert evaluateKNN(5) == len(y_test), \"Incorrect accuracy for 5-NN!\""
   ]
  },
  {
   "cell_type": "code",
   "execution_count": 7,
   "metadata": {},
   "outputs": [
    {
     "output_type": "stream",
     "name": "stdout",
     "text": [
      "Test accuracy with k=1: 93.3333% (14/15)\n"
     ]
    }
   ],
   "source": [
    "# What if we use 1-NN?\n",
    "assert evaluateKNN(1) == len(y_test) - 1, \"Incorrect accuracy for 1-NN!\""
   ]
  },
  {
   "cell_type": "markdown",
   "metadata": {},
   "source": [
    "### K-means clustering\n",
    "Use the first 3 data points as initial cluster centroids (medoids anyone?)\n",
    "\n",
    "Run the recaliberation step 10 times. Yes, it converges that quickly for a NP-hard problem."
   ]
  },
  {
   "cell_type": "code",
   "execution_count": 8,
   "metadata": {},
   "outputs": [],
   "source": [
    "def get_cluster_classification(x_data, centroids):\n",
    "    '''\n",
    "    A helper function that you will need later.\n",
    "    Classifies the points to their nearest cluster.\n",
    "    \n",
    "    Input:\n",
    "        x_data   : the data points\n",
    "        centroids: the cluster centroids\n",
    "    Output:\n",
    "        The centroid numbers that each data point belongs to (i.e. is nearest)\n",
    "    '''\n",
    "    \n",
    "    # IMPLEMENT HERE\n",
    "    clusters = [[] for _ in range(len(centroids))]\n",
    "    for sample_index, sample in enumerate(x_data):\n",
    "\n",
    "        min_dist = np.inf\n",
    "        min_index = 0\n",
    "        for centroid_index, centroid in enumerate(centroids):\n",
    "            dist = np.linalg.norm(sample - centroid)\n",
    "            if dist < min_dist:\n",
    "                min_dist = dist\n",
    "                min_index = centroid_index\n",
    "        \n",
    "        clusters[min_index].append(sample_index)\n",
    "\n",
    "    return clusters\n",
    "    "
   ]
  },
  {
   "cell_type": "code",
   "execution_count": 9,
   "metadata": {},
   "outputs": [],
   "source": [
    "import random\n",
    "def kmeans(x_train, k, step):\n",
    "    '''\n",
    "    An implementation of K-means clustering.\n",
    "    \n",
    "    Input:\n",
    "        k      : number of clusters\n",
    "        x_train: training dataset\n",
    "        step   : number of recaliberation steps\n",
    "    Output:\n",
    "        The centroids of the clusters (a k x d matrix)\n",
    "    '''\n",
    "    \n",
    "    # IMPLEMENT HERE\n",
    "    centroids = x_train[:k, :]\n",
    "     # IMPLEMENT HERE\n",
    "    for i in range(step):\n",
    "        clusters = get_cluster_classification(x_train, centroids)\n",
    "        new_centroids = []\n",
    "        for cluster in clusters:\n",
    "            new_centroids.append(x_train[cluster].mean(axis=0).tolist())\n",
    "        centroids = new_centroids\n",
    "    return np.array(centroids)\n"
   ]
  },
  {
   "cell_type": "code",
   "execution_count": 10,
   "metadata": {},
   "outputs": [],
   "source": [
    "# we know that there are three classes\n",
    "centroids = kmeans(x_train, k=3, step=10)\n",
    "assert np.allclose(centroids, np.array([\n",
    "    [-1.02028733,  0.90854287, -1.32521428, -1.27540932],\n",
    "    [ 0.99363929,  0.01896468,  0.90355632,  0.92076921],\n",
    "    [-0.22539812, -1.02749927,  0.23322382,  0.15491878]\n",
    "])), \"Incorrect centroids for K-means!\""
   ]
  },
  {
   "cell_type": "markdown",
   "metadata": {},
   "source": [
    "### K-means++\n",
    "Use the 4th data point as the intial centroid each step ([chosen with randomness](https://xkcd.com/221/)):\n",
    "- The first initial centroid should be the 4th data point.\n",
    "- The next initial centroids should be the 4th furthest data point."
   ]
  },
  {
   "cell_type": "code",
   "execution_count": 19,
   "metadata": {},
   "outputs": [],
   "source": [
    "def kmeanspp(x_train, k, step):\n",
    "\n",
    "    '''\n",
    "    An implementation of K-means++ clustering.\n",
    "    \n",
    "    Input:\n",
    "        k      : number of clusters\n",
    "        x_train: training dataset\n",
    "        step   : number of recaliberation steps\n",
    "    Output:\n",
    "        The centroids of the clusters (a k x d matrix)\n",
    "    '''\n",
    "    # initialize the centroids according to the above criteria\n",
    "    \n",
    "    # IMPLEMENT HERE\n",
    "    centroids = []  \n",
    "    centroids.append(x_train[3])\n",
    "    for i in range(k-1):\n",
    "        list_index = []\n",
    "        for index, x in enumerate(x_train):\n",
    "                distance = np.linalg.norm(x - centroids[-1])\n",
    "                if distance != 0:\n",
    "                        if len(list_index) == 0:\n",
    "                            list_index.append(index)\n",
    "                        else:\n",
    "                            for id_list, id_train in enumerate(list_index):\n",
    "                                if distance > np.linalg.norm(centroids[-1] - x_train[id_train]):\n",
    "                                    list_index.insert(id_list, index)\n",
    "                                    break\n",
    "                            if index not in list_index:\n",
    "                                list_index.append(index)  \n",
    "        centroids.append(x_train[list_index[3]])    \n",
    "    # the rest should be identical to kmeans()\n",
    "    \n",
    "    # IMPLEMENT HERE\n",
    "    for i in range(step):\n",
    "        clusters = get_cluster_classification(x_train, centroids)\n",
    "        new_centroids = []\n",
    "        for cluster in clusters:\n",
    "            new_centroids.append(x_train[cluster].mean(axis=0).tolist())\n",
    "        centroids = new_centroids\n",
    "    return np.array(centroids)\n"
   ]
  },
  {
   "cell_type": "code",
   "execution_count": 20,
   "metadata": {},
   "outputs": [],
   "source": [
    "# now check if you did it correctly.\n",
    "centroidspp = kmeanspp(x_train, k=3, step=10)\n",
    "assert np.allclose(centroidspp, np.array([\n",
    "    [-0.0118057 , -0.87997489,  0.36942197,  0.30573876],\n",
    "    [ 1.15200055,  0.18878042,  0.98903982,  1.01136932],\n",
    "    [-1.03358934,  0.84835232, -1.32732076, -1.27380566]\n",
    "])), \"Incorrect centroids for K-means++!\""
   ]
  },
  {
   "cell_type": "markdown",
   "metadata": {},
   "source": [
    "### (Optional) Classification using clustering\n",
    "We can treat each cluster to be of a different class, and the class with most points in each cluster is the classification for that cluster. Think voting."
   ]
  },
  {
   "cell_type": "code",
   "execution_count": 28,
   "metadata": {},
   "outputs": [],
   "source": [
    "# get the associated classification for each cluster\n",
    "def get_cluster_label(centroids, x_train, y_train):\n",
    "    '''\n",
    "    Get the classification for each cluster using training set.\n",
    "    \n",
    "    Input:\n",
    "        centroids: the centroids of the clusters\n",
    "        x_train  : features of training set\n",
    "        y_train  : labels of training set\n",
    "    Output:\n",
    "        The classifications for the clusters.\n",
    "    '''\n",
    "    # remember to return a numpy array instead of a Python list!\n",
    "    \n",
    "    # IMPLEMENT HERE\n",
    "    labels = []\n",
    "    for i in centroids:\n",
    "        labels.append(evaluateKNN_single(40, x_train, y_train, i)) # :)\n",
    "    return labels\n",
    "\n"
   ]
  },
  {
   "cell_type": "code",
   "execution_count": 29,
   "metadata": {},
   "outputs": [],
   "source": [
    "labels = get_cluster_label(centroids, x_train, y_train)\n",
    "labelspp = get_cluster_label(centroidspp, x_train, y_train)\n",
    "# each cluster nicely belongs to a different class\n",
    "assert (labels == [0, 2, 1]), \"Incorrect K-means cluster label(s)!\"\n",
    "assert (labelspp == [1, 2, 0]), \"Incorrect K-means++ cluster label(s)!\""
   ]
  },
  {
   "cell_type": "code",
   "execution_count": 30,
   "metadata": {},
   "outputs": [],
   "source": [
    "def evaluate_kmeans_classification(centroids, labels, x_data):\n",
    "    '''\n",
    "    Get the classification for each data point using centroid labels.\n",
    "    \n",
    "    Input:\n",
    "        centroids: the centroids of the clusters\n",
    "        labels   : the labels for the clusters\n",
    "        x_data   : the data to be classified\n",
    "    Output:\n",
    "        The classifications for the data.\n",
    "    '''\n",
    "    \n",
    "    # IMPLEMENT HERE\n",
    "    label_xdata = []\n",
    "    for x in x_data:\n",
    "        min_dis = np.inf\n",
    "        label = 0\n",
    "        for index, centroid in enumerate(centroids):\n",
    "            if np.linalg.norm(centroid - x) < min_dis:\n",
    "                min_dis = np.linalg.norm(centroid - x)\n",
    "                label = labels[index]\n",
    "        label_xdata.append(label)\n",
    "    return label_xdata\n"
   ]
  },
  {
   "cell_type": "code",
   "execution_count": 31,
   "metadata": {},
   "outputs": [],
   "source": [
    "# evaluate the classifications\n",
    "y_train_pred = evaluate_kmeans_classification(centroids, labels, x_train)\n",
    "y_test_pred = evaluate_kmeans_classification(centroids, labels, x_test)\n",
    "y_train_pred_pp = evaluate_kmeans_classification(centroidspp, labelspp, x_train)\n",
    "y_test_pred_pp = evaluate_kmeans_classification(centroidspp, labelspp, x_test)\n",
    "\n",
    "# and check for correctness\n",
    "assert (y_train_pred == [2, 2, 1, 1, 2, 0, 2, 0, 2, 2, 2, 2, 2, 0, 0, 0, 0, 2, 0, 0, 1, 2, 0, 0, 0, 1, 2, 2, 0, 0, 1, 2, 2, 2, 2, 1, 2, 1, 0, 2, 1, 0, 0, 0, 1, 2, 0, 0, 0, 1, 0, 1, 2, 0, 1, 1, 0, 2, 1, 1, 1, 2, 1, 0, 1, 2, 0, 0, 1, 2, 0, 2, 0, 0, 2, 1, 2, 1, 1, 2, 1, 0, 0, 1, 2, 0, 0, 0, 1, 2, 0, 2, 2, 0, 1, 2, 2, 2, 2, 0, 2, 1, 2, 1, 1, 2, 1, 2, 1, 0, 1, 2, 2, 0, 1, 2, 2, 0, 2, 0, 2, 2, 2, 1, 2, 1, 2, 1, 2, 0, 1, 1, 0, 1, 2])\n",
    "assert (y_test_pred == [1, 0, 2, 1, 2, 0, 1, 2, 1, 1, 2, 0, 0, 0, 0])\n",
    "assert (y_train_pred_pp == [2, 2, 1, 1, 2, 0, 1, 0, 2, 2, 2, 1, 2, 0, 0, 0, 0, 2, 0, 0, 1, 2, 0, 0, 0, 1, 2, 2, 0, 0, 1, 1, 2, 2, 2, 1, 2, 1, 0, 2, 1, 0, 0, 0, 1, 1, 0, 0, 0, 1, 0, 1, 2, 0, 1, 1, 0, 1, 1, 1, 1, 2, 1, 0, 1, 1, 0, 0, 1, 2, 0, 1, 0, 0, 2, 1, 2, 1, 1, 2, 1, 0, 0, 1, 2, 0, 0, 0, 1, 2, 0, 2, 2, 0, 1, 1, 1, 2, 2, 0, 2, 1, 2, 1, 1, 1, 0, 1, 1, 0, 1, 2, 2, 0, 1, 2, 2, 0, 2, 0, 2, 2, 2, 1, 2, 1, 1, 1, 1, 0, 1, 1, 0, 1, 2])\n",
    "assert (y_test_pred_pp == [1, 0, 2, 1, 2, 0, 1, 2, 1, 1, 2, 0, 0, 0, 0])"
   ]
  },
  {
   "cell_type": "code",
   "execution_count": 32,
   "metadata": {},
   "outputs": [
    {
     "output_type": "stream",
     "name": "stdout",
     "text": [
      "[+] For K-means:\nTraining accuracy: 82.9630% (112/135)\nTraining accuracy: 93.3333% (14/15)\n[+] For K-means++:\nTraining accuracy: 80.0000% (108/135)\nTraining accuracy: 93.3333% (14/15)\n"
     ]
    }
   ],
   "source": [
    "# evaluate prediction accuracy\n",
    "print('[+] For K-means:')\n",
    "train_score = np.sum(y_train_pred == y_train)\n",
    "print(f'Training accuracy: {train_score / len(y_train) * 100:.4f}% ({train_score}/{len(y_train)})')\n",
    "train_score = np.sum(y_test_pred == y_test)\n",
    "print(f'Training accuracy: {train_score / len(y_test) * 100:.4f}% ({train_score}/{len(y_test)})')\n",
    "print('[+] For K-means++:')\n",
    "train_score = np.sum(y_train_pred_pp == y_train)\n",
    "print(f'Training accuracy: {train_score / len(y_train) * 100:.4f}% ({train_score}/{len(y_train)})')\n",
    "train_score = np.sum(y_test_pred_pp == y_test)\n",
    "print(f'Training accuracy: {train_score / len(y_test) * 100:.4f}% ({train_score}/{len(y_test)})')"
   ]
  },
  {
   "cell_type": "code",
   "execution_count": 33,
   "metadata": {},
   "outputs": [
    {
     "output_type": "display_data",
     "data": {
      "text/plain": "<Figure size 720x720 with 4 Axes>",
      "image/svg+xml": "<?xml version=\"1.0\" encoding=\"utf-8\" standalone=\"no\"?>\n<!DOCTYPE svg PUBLIC \"-//W3C//DTD SVG 1.1//EN\"\n  \"http://www.w3.org/Graphics/SVG/1.1/DTD/svg11.dtd\">\n<!-- Created with matplotlib (https://matplotlib.org/) -->\n<svg height=\"589.79625pt\" version=\"1.1\" viewBox=\"0 0 582.53267 589.79625\" width=\"582.53267pt\" xmlns=\"http://www.w3.org/2000/svg\" xmlns:xlink=\"http://www.w3.org/1999/xlink\">\n <metadata>\n  <rdf:RDF xmlns:cc=\"http://creativecommons.org/ns#\" xmlns:dc=\"http://purl.org/dc/elements/1.1/\" xmlns:rdf=\"http://www.w3.org/1999/02/22-rdf-syntax-ns#\">\n   <cc:Work>\n    <dc:type rdf:resource=\"http://purl.org/dc/dcmitype/StillImage\"/>\n    <dc:date>2020-12-08T17:09:51.608909</dc:date>\n    <dc:format>image/svg+xml</dc:format>\n    <dc:creator>\n     <cc:Agent>\n      <dc:title>Matplotlib v3.3.3, https://matplotlib.org/</dc:title>\n     </cc:Agent>\n    </dc:creator>\n   </cc:Work>\n  </rdf:RDF>\n </metadata>\n <defs>\n  <style type=\"text/css\">*{stroke-linecap:butt;stroke-linejoin:round;}</style>\n </defs>\n <g id=\"figure_1\">\n  <g id=\"patch_1\">\n   <path d=\"M 0 589.79625 \nL 582.53267 589.79625 \nL 582.53267 0 \nL 0 0 \nz\n\" style=\"fill:none;\"/>\n  </g>\n  <g id=\"axes_1\">\n   <g id=\"patch_2\">\n    <path d=\"M 23.878125 269.409034 \nL 270.969034 269.409034 \nL 270.969034 22.318125 \nL 23.878125 22.318125 \nz\n\" style=\"fill:#ffffff;\"/>\n   </g>\n   <g id=\"QuadMesh_1\">\n    <path clip-path=\"url(#p1b383f5a38)\" d=\"M 23.878125 22.318125 \nL 106.241761 22.318125 \nL 106.241761 104.681761 \nL 23.878125 104.681761 \nL 23.878125 22.318125 \n\" style=\"fill:#faebdd;stroke:#ffffff;stroke-width:0.5;\"/>\n    <path clip-path=\"url(#p1b383f5a38)\" d=\"M 106.241761 22.318125 \nL 188.605398 22.318125 \nL 188.605398 104.681761 \nL 106.241761 104.681761 \nL 106.241761 22.318125 \n\" style=\"fill:#08081e;stroke:#ffffff;stroke-width:0.5;\"/>\n    <path clip-path=\"url(#p1b383f5a38)\" d=\"M 188.605398 22.318125 \nL 270.969034 22.318125 \nL 270.969034 104.681761 \nL 188.605398 104.681761 \nL 188.605398 22.318125 \n\" style=\"fill:#03051a;stroke:#ffffff;stroke-width:0.5;\"/>\n    <path clip-path=\"url(#p1b383f5a38)\" d=\"M 23.878125 104.681761 \nL 106.241761 104.681761 \nL 106.241761 187.045398 \nL 23.878125 187.045398 \nL 23.878125 104.681761 \n\" style=\"fill:#03051a;stroke:#ffffff;stroke-width:0.5;\"/>\n    <path clip-path=\"url(#p1b383f5a38)\" d=\"M 106.241761 104.681761 \nL 188.605398 104.681761 \nL 188.605398 187.045398 \nL 106.241761 187.045398 \nL 106.241761 104.681761 \n\" style=\"fill:#f26f4c;stroke:#ffffff;stroke-width:0.5;\"/>\n    <path clip-path=\"url(#p1b383f5a38)\" d=\"M 188.605398 104.681761 \nL 270.969034 104.681761 \nL 270.969034 187.045398 \nL 188.605398 187.045398 \nL 188.605398 104.681761 \n\" style=\"fill:#811e5a;stroke:#ffffff;stroke-width:0.5;\"/>\n    <path clip-path=\"url(#p1b383f5a38)\" d=\"M 23.878125 187.045398 \nL 106.241761 187.045398 \nL 106.241761 269.409034 \nL 23.878125 269.409034 \nL 23.878125 187.045398 \n\" style=\"fill:#03051a;stroke:#ffffff;stroke-width:0.5;\"/>\n    <path clip-path=\"url(#p1b383f5a38)\" d=\"M 106.241761 187.045398 \nL 188.605398 187.045398 \nL 188.605398 269.409034 \nL 106.241761 269.409034 \nL 106.241761 187.045398 \n\" style=\"fill:#461c48;stroke:#ffffff;stroke-width:0.5;\"/>\n    <path clip-path=\"url(#p1b383f5a38)\" d=\"M 188.605398 187.045398 \nL 270.969034 187.045398 \nL 270.969034 269.409034 \nL 188.605398 269.409034 \nL 188.605398 187.045398 \n\" style=\"fill:#f7c9aa;stroke:#ffffff;stroke-width:0.5;\"/>\n   </g>\n   <g id=\"matplotlib.axis_1\">\n    <g id=\"xtick_1\">\n     <g id=\"line2d_1\">\n      <defs>\n       <path d=\"M 0 0 \nL 0 3.5 \n\" id=\"m737fbdb2f9\" style=\"stroke:#000000;stroke-width:0.8;\"/>\n      </defs>\n      <g>\n       <use style=\"stroke:#000000;stroke-width:0.8;\" x=\"65.059943\" xlink:href=\"#m737fbdb2f9\" y=\"269.409034\"/>\n      </g>\n     </g>\n     <g id=\"text_1\">\n      <!-- 0 -->\n      <g transform=\"translate(61.878693 284.007472)scale(0.1 -0.1)\">\n       <defs>\n        <path d=\"M 31.78125 66.40625 \nQ 24.171875 66.40625 20.328125 58.90625 \nQ 16.5 51.421875 16.5 36.375 \nQ 16.5 21.390625 20.328125 13.890625 \nQ 24.171875 6.390625 31.78125 6.390625 \nQ 39.453125 6.390625 43.28125 13.890625 \nQ 47.125 21.390625 47.125 36.375 \nQ 47.125 51.421875 43.28125 58.90625 \nQ 39.453125 66.40625 31.78125 66.40625 \nz\nM 31.78125 74.21875 \nQ 44.046875 74.21875 50.515625 64.515625 \nQ 56.984375 54.828125 56.984375 36.375 \nQ 56.984375 17.96875 50.515625 8.265625 \nQ 44.046875 -1.421875 31.78125 -1.421875 \nQ 19.53125 -1.421875 13.0625 8.265625 \nQ 6.59375 17.96875 6.59375 36.375 \nQ 6.59375 54.828125 13.0625 64.515625 \nQ 19.53125 74.21875 31.78125 74.21875 \nz\n\" id=\"DejaVuSans-48\"/>\n       </defs>\n       <use xlink:href=\"#DejaVuSans-48\"/>\n      </g>\n     </g>\n    </g>\n    <g id=\"xtick_2\">\n     <g id=\"line2d_2\">\n      <g>\n       <use style=\"stroke:#000000;stroke-width:0.8;\" x=\"147.42358\" xlink:href=\"#m737fbdb2f9\" y=\"269.409034\"/>\n      </g>\n     </g>\n     <g id=\"text_2\">\n      <!-- 1 -->\n      <g transform=\"translate(144.24233 284.007472)scale(0.1 -0.1)\">\n       <defs>\n        <path d=\"M 12.40625 8.296875 \nL 28.515625 8.296875 \nL 28.515625 63.921875 \nL 10.984375 60.40625 \nL 10.984375 69.390625 \nL 28.421875 72.90625 \nL 38.28125 72.90625 \nL 38.28125 8.296875 \nL 54.390625 8.296875 \nL 54.390625 0 \nL 12.40625 0 \nz\n\" id=\"DejaVuSans-49\"/>\n       </defs>\n       <use xlink:href=\"#DejaVuSans-49\"/>\n      </g>\n     </g>\n    </g>\n    <g id=\"xtick_3\">\n     <g id=\"line2d_3\">\n      <g>\n       <use style=\"stroke:#000000;stroke-width:0.8;\" x=\"229.787216\" xlink:href=\"#m737fbdb2f9\" y=\"269.409034\"/>\n      </g>\n     </g>\n     <g id=\"text_3\">\n      <!-- 2 -->\n      <g transform=\"translate(226.605966 284.007472)scale(0.1 -0.1)\">\n       <defs>\n        <path d=\"M 19.1875 8.296875 \nL 53.609375 8.296875 \nL 53.609375 0 \nL 7.328125 0 \nL 7.328125 8.296875 \nQ 12.9375 14.109375 22.625 23.890625 \nQ 32.328125 33.6875 34.8125 36.53125 \nQ 39.546875 41.84375 41.421875 45.53125 \nQ 43.3125 49.21875 43.3125 52.78125 \nQ 43.3125 58.59375 39.234375 62.25 \nQ 35.15625 65.921875 28.609375 65.921875 \nQ 23.96875 65.921875 18.8125 64.3125 \nQ 13.671875 62.703125 7.8125 59.421875 \nL 7.8125 69.390625 \nQ 13.765625 71.78125 18.9375 73 \nQ 24.125 74.21875 28.421875 74.21875 \nQ 39.75 74.21875 46.484375 68.546875 \nQ 53.21875 62.890625 53.21875 53.421875 \nQ 53.21875 48.921875 51.53125 44.890625 \nQ 49.859375 40.875 45.40625 35.40625 \nQ 44.1875 33.984375 37.640625 27.21875 \nQ 31.109375 20.453125 19.1875 8.296875 \nz\n\" id=\"DejaVuSans-50\"/>\n       </defs>\n       <use xlink:href=\"#DejaVuSans-50\"/>\n      </g>\n     </g>\n    </g>\n   </g>\n   <g id=\"matplotlib.axis_2\">\n    <g id=\"ytick_1\">\n     <g id=\"line2d_4\">\n      <defs>\n       <path d=\"M 0 0 \nL -3.5 0 \n\" id=\"m3279ad36b5\" style=\"stroke:#000000;stroke-width:0.8;\"/>\n      </defs>\n      <g>\n       <use style=\"stroke:#000000;stroke-width:0.8;\" x=\"23.878125\" xlink:href=\"#m3279ad36b5\" y=\"63.499943\"/>\n      </g>\n     </g>\n     <g id=\"text_4\">\n      <!-- 0 -->\n      <g transform=\"translate(14.798437 66.063224)rotate(-90)scale(0.1 -0.1)\">\n       <use xlink:href=\"#DejaVuSans-48\"/>\n      </g>\n     </g>\n    </g>\n    <g id=\"ytick_2\">\n     <g id=\"line2d_5\">\n      <g>\n       <use style=\"stroke:#000000;stroke-width:0.8;\" x=\"23.878125\" xlink:href=\"#m3279ad36b5\" y=\"145.86358\"/>\n      </g>\n     </g>\n     <g id=\"text_5\">\n      <!-- 1 -->\n      <g transform=\"translate(14.798437 148.426861)rotate(-90)scale(0.1 -0.1)\">\n       <use xlink:href=\"#DejaVuSans-49\"/>\n      </g>\n     </g>\n    </g>\n    <g id=\"ytick_3\">\n     <g id=\"line2d_6\">\n      <g>\n       <use style=\"stroke:#000000;stroke-width:0.8;\" x=\"23.878125\" xlink:href=\"#m3279ad36b5\" y=\"228.227216\"/>\n      </g>\n     </g>\n     <g id=\"text_6\">\n      <!-- 2 -->\n      <g transform=\"translate(14.798437 230.790497)rotate(-90)scale(0.1 -0.1)\">\n       <use xlink:href=\"#DejaVuSans-50\"/>\n      </g>\n     </g>\n    </g>\n   </g>\n   <g id=\"text_7\">\n    <!-- 43 -->\n    <g style=\"fill:#262626;\" transform=\"translate(58.697443 66.259318)scale(0.1 -0.1)\">\n     <defs>\n      <path d=\"M 37.796875 64.3125 \nL 12.890625 25.390625 \nL 37.796875 25.390625 \nz\nM 35.203125 72.90625 \nL 47.609375 72.90625 \nL 47.609375 25.390625 \nL 58.015625 25.390625 \nL 58.015625 17.1875 \nL 47.609375 17.1875 \nL 47.609375 0 \nL 37.796875 0 \nL 37.796875 17.1875 \nL 4.890625 17.1875 \nL 4.890625 26.703125 \nz\n\" id=\"DejaVuSans-52\"/>\n      <path d=\"M 40.578125 39.3125 \nQ 47.65625 37.796875 51.625 33 \nQ 55.609375 28.21875 55.609375 21.1875 \nQ 55.609375 10.40625 48.1875 4.484375 \nQ 40.765625 -1.421875 27.09375 -1.421875 \nQ 22.515625 -1.421875 17.65625 -0.515625 \nQ 12.796875 0.390625 7.625 2.203125 \nL 7.625 11.71875 \nQ 11.71875 9.328125 16.59375 8.109375 \nQ 21.484375 6.890625 26.8125 6.890625 \nQ 36.078125 6.890625 40.9375 10.546875 \nQ 45.796875 14.203125 45.796875 21.1875 \nQ 45.796875 27.640625 41.28125 31.265625 \nQ 36.765625 34.90625 28.71875 34.90625 \nL 20.21875 34.90625 \nL 20.21875 43.015625 \nL 29.109375 43.015625 \nQ 36.375 43.015625 40.234375 45.921875 \nQ 44.09375 48.828125 44.09375 54.296875 \nQ 44.09375 59.90625 40.109375 62.90625 \nQ 36.140625 65.921875 28.71875 65.921875 \nQ 24.65625 65.921875 20.015625 65.03125 \nQ 15.375 64.15625 9.8125 62.3125 \nL 9.8125 71.09375 \nQ 15.4375 72.65625 20.34375 73.4375 \nQ 25.25 74.21875 29.59375 74.21875 \nQ 40.828125 74.21875 47.359375 69.109375 \nQ 53.90625 64.015625 53.90625 55.328125 \nQ 53.90625 49.265625 50.4375 45.09375 \nQ 46.96875 40.921875 40.578125 39.3125 \nz\n\" id=\"DejaVuSans-51\"/>\n     </defs>\n     <use xlink:href=\"#DejaVuSans-52\"/>\n     <use x=\"63.623047\" xlink:href=\"#DejaVuSans-51\"/>\n    </g>\n   </g>\n   <g id=\"text_8\">\n    <!-- 1 -->\n    <g style=\"fill:#ffffff;\" transform=\"translate(144.24233 66.259318)scale(0.1 -0.1)\">\n     <use xlink:href=\"#DejaVuSans-49\"/>\n    </g>\n   </g>\n   <g id=\"text_9\">\n    <!-- 0 -->\n    <g style=\"fill:#ffffff;\" transform=\"translate(226.605966 66.259318)scale(0.1 -0.1)\">\n     <use xlink:href=\"#DejaVuSans-48\"/>\n    </g>\n   </g>\n   <g id=\"text_10\">\n    <!-- 0 -->\n    <g style=\"fill:#ffffff;\" transform=\"translate(61.878693 148.622955)scale(0.1 -0.1)\">\n     <use xlink:href=\"#DejaVuSans-48\"/>\n    </g>\n   </g>\n   <g id=\"text_11\">\n    <!-- 30 -->\n    <g style=\"fill:#ffffff;\" transform=\"translate(141.06108 148.622955)scale(0.1 -0.1)\">\n     <use xlink:href=\"#DejaVuSans-51\"/>\n     <use x=\"63.623047\" xlink:href=\"#DejaVuSans-48\"/>\n    </g>\n   </g>\n   <g id=\"text_12\">\n    <!-- 14 -->\n    <g style=\"fill:#ffffff;\" transform=\"translate(223.424716 148.622955)scale(0.1 -0.1)\">\n     <use xlink:href=\"#DejaVuSans-49\"/>\n     <use x=\"63.623047\" xlink:href=\"#DejaVuSans-52\"/>\n    </g>\n   </g>\n   <g id=\"text_13\">\n    <!-- 0 -->\n    <g style=\"fill:#ffffff;\" transform=\"translate(61.878693 230.986591)scale(0.1 -0.1)\">\n     <use xlink:href=\"#DejaVuSans-48\"/>\n    </g>\n   </g>\n   <g id=\"text_14\">\n    <!-- 8 -->\n    <g style=\"fill:#ffffff;\" transform=\"translate(144.24233 230.986591)scale(0.1 -0.1)\">\n     <defs>\n      <path d=\"M 31.78125 34.625 \nQ 24.75 34.625 20.71875 30.859375 \nQ 16.703125 27.09375 16.703125 20.515625 \nQ 16.703125 13.921875 20.71875 10.15625 \nQ 24.75 6.390625 31.78125 6.390625 \nQ 38.8125 6.390625 42.859375 10.171875 \nQ 46.921875 13.96875 46.921875 20.515625 \nQ 46.921875 27.09375 42.890625 30.859375 \nQ 38.875 34.625 31.78125 34.625 \nz\nM 21.921875 38.8125 \nQ 15.578125 40.375 12.03125 44.71875 \nQ 8.5 49.078125 8.5 55.328125 \nQ 8.5 64.0625 14.71875 69.140625 \nQ 20.953125 74.21875 31.78125 74.21875 \nQ 42.671875 74.21875 48.875 69.140625 \nQ 55.078125 64.0625 55.078125 55.328125 \nQ 55.078125 49.078125 51.53125 44.71875 \nQ 48 40.375 41.703125 38.8125 \nQ 48.828125 37.15625 52.796875 32.3125 \nQ 56.78125 27.484375 56.78125 20.515625 \nQ 56.78125 9.90625 50.3125 4.234375 \nQ 43.84375 -1.421875 31.78125 -1.421875 \nQ 19.734375 -1.421875 13.25 4.234375 \nQ 6.78125 9.90625 6.78125 20.515625 \nQ 6.78125 27.484375 10.78125 32.3125 \nQ 14.796875 37.15625 21.921875 38.8125 \nz\nM 18.3125 54.390625 \nQ 18.3125 48.734375 21.84375 45.5625 \nQ 25.390625 42.390625 31.78125 42.390625 \nQ 38.140625 42.390625 41.71875 45.5625 \nQ 45.3125 48.734375 45.3125 54.390625 \nQ 45.3125 60.0625 41.71875 63.234375 \nQ 38.140625 66.40625 31.78125 66.40625 \nQ 25.390625 66.40625 21.84375 63.234375 \nQ 18.3125 60.0625 18.3125 54.390625 \nz\n\" id=\"DejaVuSans-56\"/>\n     </defs>\n     <use xlink:href=\"#DejaVuSans-56\"/>\n    </g>\n   </g>\n   <g id=\"text_15\">\n    <!-- 39 -->\n    <g style=\"fill:#262626;\" transform=\"translate(223.424716 230.986591)scale(0.1 -0.1)\">\n     <defs>\n      <path d=\"M 10.984375 1.515625 \nL 10.984375 10.5 \nQ 14.703125 8.734375 18.5 7.8125 \nQ 22.3125 6.890625 25.984375 6.890625 \nQ 35.75 6.890625 40.890625 13.453125 \nQ 46.046875 20.015625 46.78125 33.40625 \nQ 43.953125 29.203125 39.59375 26.953125 \nQ 35.25 24.703125 29.984375 24.703125 \nQ 19.046875 24.703125 12.671875 31.3125 \nQ 6.296875 37.9375 6.296875 49.421875 \nQ 6.296875 60.640625 12.9375 67.421875 \nQ 19.578125 74.21875 30.609375 74.21875 \nQ 43.265625 74.21875 49.921875 64.515625 \nQ 56.59375 54.828125 56.59375 36.375 \nQ 56.59375 19.140625 48.40625 8.859375 \nQ 40.234375 -1.421875 26.421875 -1.421875 \nQ 22.703125 -1.421875 18.890625 -0.6875 \nQ 15.09375 0.046875 10.984375 1.515625 \nz\nM 30.609375 32.421875 \nQ 37.25 32.421875 41.125 36.953125 \nQ 45.015625 41.5 45.015625 49.421875 \nQ 45.015625 57.28125 41.125 61.84375 \nQ 37.25 66.40625 30.609375 66.40625 \nQ 23.96875 66.40625 20.09375 61.84375 \nQ 16.21875 57.28125 16.21875 49.421875 \nQ 16.21875 41.5 20.09375 36.953125 \nQ 23.96875 32.421875 30.609375 32.421875 \nz\n\" id=\"DejaVuSans-57\"/>\n     </defs>\n     <use xlink:href=\"#DejaVuSans-51\"/>\n     <use x=\"63.623047\" xlink:href=\"#DejaVuSans-57\"/>\n    </g>\n   </g>\n   <g id=\"text_16\">\n    <!-- K-means, train set -->\n    <g transform=\"translate(92.957642 16.318125)scale(0.12 -0.12)\">\n     <defs>\n      <path d=\"M 9.8125 72.90625 \nL 19.671875 72.90625 \nL 19.671875 42.09375 \nL 52.390625 72.90625 \nL 65.09375 72.90625 \nL 28.90625 38.921875 \nL 67.671875 0 \nL 54.6875 0 \nL 19.671875 35.109375 \nL 19.671875 0 \nL 9.8125 0 \nz\n\" id=\"DejaVuSans-75\"/>\n      <path d=\"M 4.890625 31.390625 \nL 31.203125 31.390625 \nL 31.203125 23.390625 \nL 4.890625 23.390625 \nz\n\" id=\"DejaVuSans-45\"/>\n      <path d=\"M 52 44.1875 \nQ 55.375 50.25 60.0625 53.125 \nQ 64.75 56 71.09375 56 \nQ 79.640625 56 84.28125 50.015625 \nQ 88.921875 44.046875 88.921875 33.015625 \nL 88.921875 0 \nL 79.890625 0 \nL 79.890625 32.71875 \nQ 79.890625 40.578125 77.09375 44.375 \nQ 74.3125 48.1875 68.609375 48.1875 \nQ 61.625 48.1875 57.5625 43.546875 \nQ 53.515625 38.921875 53.515625 30.90625 \nL 53.515625 0 \nL 44.484375 0 \nL 44.484375 32.71875 \nQ 44.484375 40.625 41.703125 44.40625 \nQ 38.921875 48.1875 33.109375 48.1875 \nQ 26.21875 48.1875 22.15625 43.53125 \nQ 18.109375 38.875 18.109375 30.90625 \nL 18.109375 0 \nL 9.078125 0 \nL 9.078125 54.6875 \nL 18.109375 54.6875 \nL 18.109375 46.1875 \nQ 21.1875 51.21875 25.484375 53.609375 \nQ 29.78125 56 35.6875 56 \nQ 41.65625 56 45.828125 52.96875 \nQ 50 49.953125 52 44.1875 \nz\n\" id=\"DejaVuSans-109\"/>\n      <path d=\"M 56.203125 29.59375 \nL 56.203125 25.203125 \nL 14.890625 25.203125 \nQ 15.484375 15.921875 20.484375 11.0625 \nQ 25.484375 6.203125 34.421875 6.203125 \nQ 39.59375 6.203125 44.453125 7.46875 \nQ 49.3125 8.734375 54.109375 11.28125 \nL 54.109375 2.78125 \nQ 49.265625 0.734375 44.1875 -0.34375 \nQ 39.109375 -1.421875 33.890625 -1.421875 \nQ 20.796875 -1.421875 13.15625 6.1875 \nQ 5.515625 13.8125 5.515625 26.8125 \nQ 5.515625 40.234375 12.765625 48.109375 \nQ 20.015625 56 32.328125 56 \nQ 43.359375 56 49.78125 48.890625 \nQ 56.203125 41.796875 56.203125 29.59375 \nz\nM 47.21875 32.234375 \nQ 47.125 39.59375 43.09375 43.984375 \nQ 39.0625 48.390625 32.421875 48.390625 \nQ 24.90625 48.390625 20.390625 44.140625 \nQ 15.875 39.890625 15.1875 32.171875 \nz\n\" id=\"DejaVuSans-101\"/>\n      <path d=\"M 34.28125 27.484375 \nQ 23.390625 27.484375 19.1875 25 \nQ 14.984375 22.515625 14.984375 16.5 \nQ 14.984375 11.71875 18.140625 8.90625 \nQ 21.296875 6.109375 26.703125 6.109375 \nQ 34.1875 6.109375 38.703125 11.40625 \nQ 43.21875 16.703125 43.21875 25.484375 \nL 43.21875 27.484375 \nz\nM 52.203125 31.203125 \nL 52.203125 0 \nL 43.21875 0 \nL 43.21875 8.296875 \nQ 40.140625 3.328125 35.546875 0.953125 \nQ 30.953125 -1.421875 24.3125 -1.421875 \nQ 15.921875 -1.421875 10.953125 3.296875 \nQ 6 8.015625 6 15.921875 \nQ 6 25.140625 12.171875 29.828125 \nQ 18.359375 34.515625 30.609375 34.515625 \nL 43.21875 34.515625 \nL 43.21875 35.40625 \nQ 43.21875 41.609375 39.140625 45 \nQ 35.0625 48.390625 27.6875 48.390625 \nQ 23 48.390625 18.546875 47.265625 \nQ 14.109375 46.140625 10.015625 43.890625 \nL 10.015625 52.203125 \nQ 14.9375 54.109375 19.578125 55.046875 \nQ 24.21875 56 28.609375 56 \nQ 40.484375 56 46.34375 49.84375 \nQ 52.203125 43.703125 52.203125 31.203125 \nz\n\" id=\"DejaVuSans-97\"/>\n      <path d=\"M 54.890625 33.015625 \nL 54.890625 0 \nL 45.90625 0 \nL 45.90625 32.71875 \nQ 45.90625 40.484375 42.875 44.328125 \nQ 39.84375 48.1875 33.796875 48.1875 \nQ 26.515625 48.1875 22.3125 43.546875 \nQ 18.109375 38.921875 18.109375 30.90625 \nL 18.109375 0 \nL 9.078125 0 \nL 9.078125 54.6875 \nL 18.109375 54.6875 \nL 18.109375 46.1875 \nQ 21.34375 51.125 25.703125 53.5625 \nQ 30.078125 56 35.796875 56 \nQ 45.21875 56 50.046875 50.171875 \nQ 54.890625 44.34375 54.890625 33.015625 \nz\n\" id=\"DejaVuSans-110\"/>\n      <path d=\"M 44.28125 53.078125 \nL 44.28125 44.578125 \nQ 40.484375 46.53125 36.375 47.5 \nQ 32.28125 48.484375 27.875 48.484375 \nQ 21.1875 48.484375 17.84375 46.4375 \nQ 14.5 44.390625 14.5 40.28125 \nQ 14.5 37.15625 16.890625 35.375 \nQ 19.28125 33.59375 26.515625 31.984375 \nL 29.59375 31.296875 \nQ 39.15625 29.25 43.1875 25.515625 \nQ 47.21875 21.78125 47.21875 15.09375 \nQ 47.21875 7.46875 41.1875 3.015625 \nQ 35.15625 -1.421875 24.609375 -1.421875 \nQ 20.21875 -1.421875 15.453125 -0.5625 \nQ 10.6875 0.296875 5.421875 2 \nL 5.421875 11.28125 \nQ 10.40625 8.6875 15.234375 7.390625 \nQ 20.0625 6.109375 24.8125 6.109375 \nQ 31.15625 6.109375 34.5625 8.28125 \nQ 37.984375 10.453125 37.984375 14.40625 \nQ 37.984375 18.0625 35.515625 20.015625 \nQ 33.0625 21.96875 24.703125 23.78125 \nL 21.578125 24.515625 \nQ 13.234375 26.265625 9.515625 29.90625 \nQ 5.8125 33.546875 5.8125 39.890625 \nQ 5.8125 47.609375 11.28125 51.796875 \nQ 16.75 56 26.8125 56 \nQ 31.78125 56 36.171875 55.265625 \nQ 40.578125 54.546875 44.28125 53.078125 \nz\n\" id=\"DejaVuSans-115\"/>\n      <path d=\"M 11.71875 12.40625 \nL 22.015625 12.40625 \nL 22.015625 4 \nL 14.015625 -11.625 \nL 7.71875 -11.625 \nL 11.71875 4 \nz\n\" id=\"DejaVuSans-44\"/>\n      <path id=\"DejaVuSans-32\"/>\n      <path d=\"M 18.3125 70.21875 \nL 18.3125 54.6875 \nL 36.8125 54.6875 \nL 36.8125 47.703125 \nL 18.3125 47.703125 \nL 18.3125 18.015625 \nQ 18.3125 11.328125 20.140625 9.421875 \nQ 21.96875 7.515625 27.59375 7.515625 \nL 36.8125 7.515625 \nL 36.8125 0 \nL 27.59375 0 \nQ 17.1875 0 13.234375 3.875 \nQ 9.28125 7.765625 9.28125 18.015625 \nL 9.28125 47.703125 \nL 2.6875 47.703125 \nL 2.6875 54.6875 \nL 9.28125 54.6875 \nL 9.28125 70.21875 \nz\n\" id=\"DejaVuSans-116\"/>\n      <path d=\"M 41.109375 46.296875 \nQ 39.59375 47.171875 37.8125 47.578125 \nQ 36.03125 48 33.890625 48 \nQ 26.265625 48 22.1875 43.046875 \nQ 18.109375 38.09375 18.109375 28.8125 \nL 18.109375 0 \nL 9.078125 0 \nL 9.078125 54.6875 \nL 18.109375 54.6875 \nL 18.109375 46.1875 \nQ 20.953125 51.171875 25.484375 53.578125 \nQ 30.03125 56 36.53125 56 \nQ 37.453125 56 38.578125 55.875 \nQ 39.703125 55.765625 41.0625 55.515625 \nz\n\" id=\"DejaVuSans-114\"/>\n      <path d=\"M 9.421875 54.6875 \nL 18.40625 54.6875 \nL 18.40625 0 \nL 9.421875 0 \nz\nM 9.421875 75.984375 \nL 18.40625 75.984375 \nL 18.40625 64.59375 \nL 9.421875 64.59375 \nz\n\" id=\"DejaVuSans-105\"/>\n     </defs>\n     <use xlink:href=\"#DejaVuSans-75\"/>\n     <use x=\"55.076172\" xlink:href=\"#DejaVuSans-45\"/>\n     <use x=\"91.160156\" xlink:href=\"#DejaVuSans-109\"/>\n     <use x=\"188.572266\" xlink:href=\"#DejaVuSans-101\"/>\n     <use x=\"250.095703\" xlink:href=\"#DejaVuSans-97\"/>\n     <use x=\"311.375\" xlink:href=\"#DejaVuSans-110\"/>\n     <use x=\"374.753906\" xlink:href=\"#DejaVuSans-115\"/>\n     <use x=\"426.853516\" xlink:href=\"#DejaVuSans-44\"/>\n     <use x=\"458.640625\" xlink:href=\"#DejaVuSans-32\"/>\n     <use x=\"490.427734\" xlink:href=\"#DejaVuSans-116\"/>\n     <use x=\"529.636719\" xlink:href=\"#DejaVuSans-114\"/>\n     <use x=\"570.75\" xlink:href=\"#DejaVuSans-97\"/>\n     <use x=\"632.029297\" xlink:href=\"#DejaVuSans-105\"/>\n     <use x=\"659.8125\" xlink:href=\"#DejaVuSans-110\"/>\n     <use x=\"723.191406\" xlink:href=\"#DejaVuSans-32\"/>\n     <use x=\"754.978516\" xlink:href=\"#DejaVuSans-115\"/>\n     <use x=\"807.078125\" xlink:href=\"#DejaVuSans-101\"/>\n     <use x=\"868.601562\" xlink:href=\"#DejaVuSans-116\"/>\n    </g>\n   </g>\n  </g>\n  <g id=\"axes_2\">\n   <g id=\"patch_3\">\n    <path d=\"M 328.241761 269.409034 \nL 575.33267 269.409034 \nL 575.33267 22.318125 \nL 328.241761 22.318125 \nz\n\" style=\"fill:#ffffff;\"/>\n   </g>\n   <g id=\"QuadMesh_2\">\n    <path clip-path=\"url(#p076c77dc13)\" d=\"M 328.241761 22.318125 \nL 410.605398 22.318125 \nL 410.605398 104.681761 \nL 328.241761 104.681761 \nL 328.241761 22.318125 \n\" style=\"fill:#faebdd;stroke:#ffffff;stroke-width:0.5;\"/>\n    <path clip-path=\"url(#p076c77dc13)\" d=\"M 410.605398 22.318125 \nL 492.969034 22.318125 \nL 492.969034 104.681761 \nL 410.605398 104.681761 \nL 410.605398 22.318125 \n\" style=\"fill:#03051a;stroke:#ffffff;stroke-width:0.5;\"/>\n    <path clip-path=\"url(#p076c77dc13)\" d=\"M 492.969034 22.318125 \nL 575.33267 22.318125 \nL 575.33267 104.681761 \nL 492.969034 104.681761 \nL 492.969034 22.318125 \n\" style=\"fill:#03051a;stroke:#ffffff;stroke-width:0.5;\"/>\n    <path clip-path=\"url(#p076c77dc13)\" d=\"M 328.241761 104.681761 \nL 410.605398 104.681761 \nL 410.605398 187.045398 \nL 328.241761 187.045398 \nL 328.241761 104.681761 \n\" style=\"fill:#03051a;stroke:#ffffff;stroke-width:0.5;\"/>\n    <path clip-path=\"url(#p076c77dc13)\" d=\"M 410.605398 104.681761 \nL 492.969034 104.681761 \nL 492.969034 187.045398 \nL 410.605398 187.045398 \nL 410.605398 104.681761 \n\" style=\"fill:#f6ab83;stroke:#ffffff;stroke-width:0.5;\"/>\n    <path clip-path=\"url(#p076c77dc13)\" d=\"M 492.969034 104.681761 \nL 575.33267 104.681761 \nL 575.33267 187.045398 \nL 492.969034 187.045398 \nL 492.969034 104.681761 \n\" style=\"fill:#3f1b43;stroke:#ffffff;stroke-width:0.5;\"/>\n    <path clip-path=\"url(#p076c77dc13)\" d=\"M 328.241761 187.045398 \nL 410.605398 187.045398 \nL 410.605398 269.409034 \nL 328.241761 269.409034 \nL 328.241761 187.045398 \n\" style=\"fill:#03051a;stroke:#ffffff;stroke-width:0.5;\"/>\n    <path clip-path=\"url(#p076c77dc13)\" d=\"M 410.605398 187.045398 \nL 492.969034 187.045398 \nL 492.969034 269.409034 \nL 410.605398 269.409034 \nL 410.605398 187.045398 \n\" style=\"fill:#03051a;stroke:#ffffff;stroke-width:0.5;\"/>\n    <path clip-path=\"url(#p076c77dc13)\" d=\"M 492.969034 187.045398 \nL 575.33267 187.045398 \nL 575.33267 269.409034 \nL 492.969034 269.409034 \nL 492.969034 187.045398 \n\" style=\"fill:#cb1b4f;stroke:#ffffff;stroke-width:0.5;\"/>\n   </g>\n   <g id=\"matplotlib.axis_3\">\n    <g id=\"xtick_4\">\n     <g id=\"line2d_7\">\n      <g>\n       <use style=\"stroke:#000000;stroke-width:0.8;\" x=\"369.42358\" xlink:href=\"#m737fbdb2f9\" y=\"269.409034\"/>\n      </g>\n     </g>\n     <g id=\"text_17\">\n      <!-- 0 -->\n      <g transform=\"translate(366.24233 284.007472)scale(0.1 -0.1)\">\n       <use xlink:href=\"#DejaVuSans-48\"/>\n      </g>\n     </g>\n    </g>\n    <g id=\"xtick_5\">\n     <g id=\"line2d_8\">\n      <g>\n       <use style=\"stroke:#000000;stroke-width:0.8;\" x=\"451.787216\" xlink:href=\"#m737fbdb2f9\" y=\"269.409034\"/>\n      </g>\n     </g>\n     <g id=\"text_18\">\n      <!-- 1 -->\n      <g transform=\"translate(448.605966 284.007472)scale(0.1 -0.1)\">\n       <use xlink:href=\"#DejaVuSans-49\"/>\n      </g>\n     </g>\n    </g>\n    <g id=\"xtick_6\">\n     <g id=\"line2d_9\">\n      <g>\n       <use style=\"stroke:#000000;stroke-width:0.8;\" x=\"534.150852\" xlink:href=\"#m737fbdb2f9\" y=\"269.409034\"/>\n      </g>\n     </g>\n     <g id=\"text_19\">\n      <!-- 2 -->\n      <g transform=\"translate(530.969602 284.007472)scale(0.1 -0.1)\">\n       <use xlink:href=\"#DejaVuSans-50\"/>\n      </g>\n     </g>\n    </g>\n   </g>\n   <g id=\"matplotlib.axis_4\">\n    <g id=\"ytick_4\">\n     <g id=\"line2d_10\">\n      <g>\n       <use style=\"stroke:#000000;stroke-width:0.8;\" x=\"328.241761\" xlink:href=\"#m3279ad36b5\" y=\"63.499943\"/>\n      </g>\n     </g>\n     <g id=\"text_20\">\n      <!-- 0 -->\n      <g transform=\"translate(319.162074 66.063224)rotate(-90)scale(0.1 -0.1)\">\n       <use xlink:href=\"#DejaVuSans-48\"/>\n      </g>\n     </g>\n    </g>\n    <g id=\"ytick_5\">\n     <g id=\"line2d_11\">\n      <g>\n       <use style=\"stroke:#000000;stroke-width:0.8;\" x=\"328.241761\" xlink:href=\"#m3279ad36b5\" y=\"145.86358\"/>\n      </g>\n     </g>\n     <g id=\"text_21\">\n      <!-- 1 -->\n      <g transform=\"translate(319.162074 148.426861)rotate(-90)scale(0.1 -0.1)\">\n       <use xlink:href=\"#DejaVuSans-49\"/>\n      </g>\n     </g>\n    </g>\n    <g id=\"ytick_6\">\n     <g id=\"line2d_12\">\n      <g>\n       <use style=\"stroke:#000000;stroke-width:0.8;\" x=\"328.241761\" xlink:href=\"#m3279ad36b5\" y=\"228.227216\"/>\n      </g>\n     </g>\n     <g id=\"text_22\">\n      <!-- 2 -->\n      <g transform=\"translate(319.162074 230.790497)rotate(-90)scale(0.1 -0.1)\">\n       <use xlink:href=\"#DejaVuSans-50\"/>\n      </g>\n     </g>\n    </g>\n   </g>\n   <g id=\"text_23\">\n    <!-- 6 -->\n    <g style=\"fill:#262626;\" transform=\"translate(366.24233 66.259318)scale(0.1 -0.1)\">\n     <defs>\n      <path d=\"M 33.015625 40.375 \nQ 26.375 40.375 22.484375 35.828125 \nQ 18.609375 31.296875 18.609375 23.390625 \nQ 18.609375 15.53125 22.484375 10.953125 \nQ 26.375 6.390625 33.015625 6.390625 \nQ 39.65625 6.390625 43.53125 10.953125 \nQ 47.40625 15.53125 47.40625 23.390625 \nQ 47.40625 31.296875 43.53125 35.828125 \nQ 39.65625 40.375 33.015625 40.375 \nz\nM 52.59375 71.296875 \nL 52.59375 62.3125 \nQ 48.875 64.0625 45.09375 64.984375 \nQ 41.3125 65.921875 37.59375 65.921875 \nQ 27.828125 65.921875 22.671875 59.328125 \nQ 17.53125 52.734375 16.796875 39.40625 \nQ 19.671875 43.65625 24.015625 45.921875 \nQ 28.375 48.1875 33.59375 48.1875 \nQ 44.578125 48.1875 50.953125 41.515625 \nQ 57.328125 34.859375 57.328125 23.390625 \nQ 57.328125 12.15625 50.6875 5.359375 \nQ 44.046875 -1.421875 33.015625 -1.421875 \nQ 20.359375 -1.421875 13.671875 8.265625 \nQ 6.984375 17.96875 6.984375 36.375 \nQ 6.984375 53.65625 15.1875 63.9375 \nQ 23.390625 74.21875 37.203125 74.21875 \nQ 40.921875 74.21875 44.703125 73.484375 \nQ 48.484375 72.75 52.59375 71.296875 \nz\n\" id=\"DejaVuSans-54\"/>\n     </defs>\n     <use xlink:href=\"#DejaVuSans-54\"/>\n    </g>\n   </g>\n   <g id=\"text_24\">\n    <!-- 0 -->\n    <g style=\"fill:#ffffff;\" transform=\"translate(448.605966 66.259318)scale(0.1 -0.1)\">\n     <use xlink:href=\"#DejaVuSans-48\"/>\n    </g>\n   </g>\n   <g id=\"text_25\">\n    <!-- 0 -->\n    <g style=\"fill:#ffffff;\" transform=\"translate(530.969602 66.259318)scale(0.1 -0.1)\">\n     <use xlink:href=\"#DejaVuSans-48\"/>\n    </g>\n   </g>\n   <g id=\"text_26\">\n    <!-- 0 -->\n    <g style=\"fill:#ffffff;\" transform=\"translate(366.24233 148.622955)scale(0.1 -0.1)\">\n     <use xlink:href=\"#DejaVuSans-48\"/>\n    </g>\n   </g>\n   <g id=\"text_27\">\n    <!-- 5 -->\n    <g style=\"fill:#262626;\" transform=\"translate(448.605966 148.622955)scale(0.1 -0.1)\">\n     <defs>\n      <path d=\"M 10.796875 72.90625 \nL 49.515625 72.90625 \nL 49.515625 64.59375 \nL 19.828125 64.59375 \nL 19.828125 46.734375 \nQ 21.96875 47.46875 24.109375 47.828125 \nQ 26.265625 48.1875 28.421875 48.1875 \nQ 40.625 48.1875 47.75 41.5 \nQ 54.890625 34.8125 54.890625 23.390625 \nQ 54.890625 11.625 47.5625 5.09375 \nQ 40.234375 -1.421875 26.90625 -1.421875 \nQ 22.3125 -1.421875 17.546875 -0.640625 \nQ 12.796875 0.140625 7.71875 1.703125 \nL 7.71875 11.625 \nQ 12.109375 9.234375 16.796875 8.0625 \nQ 21.484375 6.890625 26.703125 6.890625 \nQ 35.15625 6.890625 40.078125 11.328125 \nQ 45.015625 15.765625 45.015625 23.390625 \nQ 45.015625 31 40.078125 35.4375 \nQ 35.15625 39.890625 26.703125 39.890625 \nQ 22.75 39.890625 18.8125 39.015625 \nQ 14.890625 38.140625 10.796875 36.28125 \nz\n\" id=\"DejaVuSans-53\"/>\n     </defs>\n     <use xlink:href=\"#DejaVuSans-53\"/>\n    </g>\n   </g>\n   <g id=\"text_28\">\n    <!-- 1 -->\n    <g style=\"fill:#ffffff;\" transform=\"translate(530.969602 148.622955)scale(0.1 -0.1)\">\n     <use xlink:href=\"#DejaVuSans-49\"/>\n    </g>\n   </g>\n   <g id=\"text_29\">\n    <!-- 0 -->\n    <g style=\"fill:#ffffff;\" transform=\"translate(366.24233 230.986591)scale(0.1 -0.1)\">\n     <use xlink:href=\"#DejaVuSans-48\"/>\n    </g>\n   </g>\n   <g id=\"text_30\">\n    <!-- 0 -->\n    <g style=\"fill:#ffffff;\" transform=\"translate(448.605966 230.986591)scale(0.1 -0.1)\">\n     <use xlink:href=\"#DejaVuSans-48\"/>\n    </g>\n   </g>\n   <g id=\"text_31\">\n    <!-- 3 -->\n    <g style=\"fill:#ffffff;\" transform=\"translate(530.969602 230.986591)scale(0.1 -0.1)\">\n     <use xlink:href=\"#DejaVuSans-51\"/>\n    </g>\n   </g>\n   <g id=\"text_32\">\n    <!-- K-means, test set -->\n    <g transform=\"translate(399.764403 16.318125)scale(0.12 -0.12)\">\n     <use xlink:href=\"#DejaVuSans-75\"/>\n     <use x=\"55.076172\" xlink:href=\"#DejaVuSans-45\"/>\n     <use x=\"91.160156\" xlink:href=\"#DejaVuSans-109\"/>\n     <use x=\"188.572266\" xlink:href=\"#DejaVuSans-101\"/>\n     <use x=\"250.095703\" xlink:href=\"#DejaVuSans-97\"/>\n     <use x=\"311.375\" xlink:href=\"#DejaVuSans-110\"/>\n     <use x=\"374.753906\" xlink:href=\"#DejaVuSans-115\"/>\n     <use x=\"426.853516\" xlink:href=\"#DejaVuSans-44\"/>\n     <use x=\"458.640625\" xlink:href=\"#DejaVuSans-32\"/>\n     <use x=\"490.427734\" xlink:href=\"#DejaVuSans-116\"/>\n     <use x=\"529.636719\" xlink:href=\"#DejaVuSans-101\"/>\n     <use x=\"591.160156\" xlink:href=\"#DejaVuSans-115\"/>\n     <use x=\"643.259766\" xlink:href=\"#DejaVuSans-116\"/>\n     <use x=\"682.46875\" xlink:href=\"#DejaVuSans-32\"/>\n     <use x=\"714.255859\" xlink:href=\"#DejaVuSans-115\"/>\n     <use x=\"766.355469\" xlink:href=\"#DejaVuSans-101\"/>\n     <use x=\"827.878906\" xlink:href=\"#DejaVuSans-116\"/>\n    </g>\n   </g>\n  </g>\n  <g id=\"axes_3\">\n   <g id=\"patch_4\">\n    <path d=\"M 23.878125 565.918125 \nL 270.969034 565.918125 \nL 270.969034 318.827216 \nL 23.878125 318.827216 \nz\n\" style=\"fill:#ffffff;\"/>\n   </g>\n   <g id=\"QuadMesh_3\">\n    <path clip-path=\"url(#pf4a2b41394)\" d=\"M 23.878125 318.827216 \nL 106.241761 318.827216 \nL 106.241761 401.190852 \nL 23.878125 401.190852 \nL 23.878125 318.827216 \n\" style=\"fill:#faebdd;stroke:#ffffff;stroke-width:0.5;\"/>\n    <path clip-path=\"url(#pf4a2b41394)\" d=\"M 106.241761 318.827216 \nL 188.605398 318.827216 \nL 188.605398 401.190852 \nL 106.241761 401.190852 \nL 106.241761 318.827216 \n\" style=\"fill:#03051a;stroke:#ffffff;stroke-width:0.5;\"/>\n    <path clip-path=\"url(#pf4a2b41394)\" d=\"M 188.605398 318.827216 \nL 270.969034 318.827216 \nL 270.969034 401.190852 \nL 188.605398 401.190852 \nL 188.605398 318.827216 \n\" style=\"fill:#03051a;stroke:#ffffff;stroke-width:0.5;\"/>\n    <path clip-path=\"url(#pf4a2b41394)\" d=\"M 23.878125 401.190852 \nL 106.241761 401.190852 \nL 106.241761 483.554489 \nL 23.878125 483.554489 \nL 23.878125 401.190852 \n\" style=\"fill:#03051a;stroke:#ffffff;stroke-width:0.5;\"/>\n    <path clip-path=\"url(#pf4a2b41394)\" d=\"M 106.241761 401.190852 \nL 188.605398 401.190852 \nL 188.605398 483.554489 \nL 106.241761 483.554489 \nL 106.241761 401.190852 \n\" style=\"fill:#f59067;stroke:#ffffff;stroke-width:0.5;\"/>\n    <path clip-path=\"url(#pf4a2b41394)\" d=\"M 188.605398 401.190852 \nL 270.969034 401.190852 \nL 270.969034 483.554489 \nL 188.605398 483.554489 \nL 188.605398 401.190852 \n\" style=\"fill:#581e4f;stroke:#ffffff;stroke-width:0.5;\"/>\n    <path clip-path=\"url(#pf4a2b41394)\" d=\"M 23.878125 483.554489 \nL 106.241761 483.554489 \nL 106.241761 565.918125 \nL 23.878125 565.918125 \nL 23.878125 483.554489 \n\" style=\"fill:#03051a;stroke:#ffffff;stroke-width:0.5;\"/>\n    <path clip-path=\"url(#pf4a2b41394)\" d=\"M 106.241761 483.554489 \nL 188.605398 483.554489 \nL 188.605398 565.918125 \nL 106.241761 565.918125 \nL 106.241761 483.554489 \n\" style=\"fill:#9a1b5b;stroke:#ffffff;stroke-width:0.5;\"/>\n    <path clip-path=\"url(#pf4a2b41394)\" d=\"M 188.605398 483.554489 \nL 270.969034 483.554489 \nL 270.969034 565.918125 \nL 188.605398 565.918125 \nL 188.605398 483.554489 \n\" style=\"fill:#f26747;stroke:#ffffff;stroke-width:0.5;\"/>\n   </g>\n   <g id=\"matplotlib.axis_5\">\n    <g id=\"xtick_7\">\n     <g id=\"line2d_13\">\n      <g>\n       <use style=\"stroke:#000000;stroke-width:0.8;\" x=\"65.059943\" xlink:href=\"#m737fbdb2f9\" y=\"565.918125\"/>\n      </g>\n     </g>\n     <g id=\"text_33\">\n      <!-- 0 -->\n      <g transform=\"translate(61.878693 580.516562)scale(0.1 -0.1)\">\n       <use xlink:href=\"#DejaVuSans-48\"/>\n      </g>\n     </g>\n    </g>\n    <g id=\"xtick_8\">\n     <g id=\"line2d_14\">\n      <g>\n       <use style=\"stroke:#000000;stroke-width:0.8;\" x=\"147.42358\" xlink:href=\"#m737fbdb2f9\" y=\"565.918125\"/>\n      </g>\n     </g>\n     <g id=\"text_34\">\n      <!-- 1 -->\n      <g transform=\"translate(144.24233 580.516562)scale(0.1 -0.1)\">\n       <use xlink:href=\"#DejaVuSans-49\"/>\n      </g>\n     </g>\n    </g>\n    <g id=\"xtick_9\">\n     <g id=\"line2d_15\">\n      <g>\n       <use style=\"stroke:#000000;stroke-width:0.8;\" x=\"229.787216\" xlink:href=\"#m737fbdb2f9\" y=\"565.918125\"/>\n      </g>\n     </g>\n     <g id=\"text_35\">\n      <!-- 2 -->\n      <g transform=\"translate(226.605966 580.516562)scale(0.1 -0.1)\">\n       <use xlink:href=\"#DejaVuSans-50\"/>\n      </g>\n     </g>\n    </g>\n   </g>\n   <g id=\"matplotlib.axis_6\">\n    <g id=\"ytick_7\">\n     <g id=\"line2d_16\">\n      <g>\n       <use style=\"stroke:#000000;stroke-width:0.8;\" x=\"23.878125\" xlink:href=\"#m3279ad36b5\" y=\"360.009034\"/>\n      </g>\n     </g>\n     <g id=\"text_36\">\n      <!-- 0 -->\n      <g transform=\"translate(14.798437 362.572315)rotate(-90)scale(0.1 -0.1)\">\n       <use xlink:href=\"#DejaVuSans-48\"/>\n      </g>\n     </g>\n    </g>\n    <g id=\"ytick_8\">\n     <g id=\"line2d_17\">\n      <g>\n       <use style=\"stroke:#000000;stroke-width:0.8;\" x=\"23.878125\" xlink:href=\"#m3279ad36b5\" y=\"442.37267\"/>\n      </g>\n     </g>\n     <g id=\"text_37\">\n      <!-- 1 -->\n      <g transform=\"translate(14.798437 444.935952)rotate(-90)scale(0.1 -0.1)\">\n       <use xlink:href=\"#DejaVuSans-49\"/>\n      </g>\n     </g>\n    </g>\n    <g id=\"ytick_9\">\n     <g id=\"line2d_18\">\n      <g>\n       <use style=\"stroke:#000000;stroke-width:0.8;\" x=\"23.878125\" xlink:href=\"#m3279ad36b5\" y=\"524.736307\"/>\n      </g>\n     </g>\n     <g id=\"text_38\">\n      <!-- 2 -->\n      <g transform=\"translate(14.798437 527.299588)rotate(-90)scale(0.1 -0.1)\">\n       <use xlink:href=\"#DejaVuSans-50\"/>\n      </g>\n     </g>\n    </g>\n   </g>\n   <g id=\"text_39\">\n    <!-- 44 -->\n    <g style=\"fill:#262626;\" transform=\"translate(58.697443 362.768409)scale(0.1 -0.1)\">\n     <use xlink:href=\"#DejaVuSans-52\"/>\n     <use x=\"63.623047\" xlink:href=\"#DejaVuSans-52\"/>\n    </g>\n   </g>\n   <g id=\"text_40\">\n    <!-- 0 -->\n    <g style=\"fill:#ffffff;\" transform=\"translate(144.24233 362.768409)scale(0.1 -0.1)\">\n     <use xlink:href=\"#DejaVuSans-48\"/>\n    </g>\n   </g>\n   <g id=\"text_41\">\n    <!-- 0 -->\n    <g style=\"fill:#ffffff;\" transform=\"translate(226.605966 362.768409)scale(0.1 -0.1)\">\n     <use xlink:href=\"#DejaVuSans-48\"/>\n    </g>\n   </g>\n   <g id=\"text_42\">\n    <!-- 0 -->\n    <g style=\"fill:#ffffff;\" transform=\"translate(61.878693 445.132045)scale(0.1 -0.1)\">\n     <use xlink:href=\"#DejaVuSans-48\"/>\n    </g>\n   </g>\n   <g id=\"text_43\">\n    <!-- 34 -->\n    <g style=\"fill:#ffffff;\" transform=\"translate(141.06108 445.132045)scale(0.1 -0.1)\">\n     <use xlink:href=\"#DejaVuSans-51\"/>\n     <use x=\"63.623047\" xlink:href=\"#DejaVuSans-52\"/>\n    </g>\n   </g>\n   <g id=\"text_44\">\n    <!-- 10 -->\n    <g style=\"fill:#ffffff;\" transform=\"translate(223.424716 445.132045)scale(0.1 -0.1)\">\n     <use xlink:href=\"#DejaVuSans-49\"/>\n     <use x=\"63.623047\" xlink:href=\"#DejaVuSans-48\"/>\n    </g>\n   </g>\n   <g id=\"text_45\">\n    <!-- 0 -->\n    <g style=\"fill:#ffffff;\" transform=\"translate(61.878693 527.495682)scale(0.1 -0.1)\">\n     <use xlink:href=\"#DejaVuSans-48\"/>\n    </g>\n   </g>\n   <g id=\"text_46\">\n    <!-- 17 -->\n    <g style=\"fill:#ffffff;\" transform=\"translate(141.06108 527.495682)scale(0.1 -0.1)\">\n     <defs>\n      <path d=\"M 8.203125 72.90625 \nL 55.078125 72.90625 \nL 55.078125 68.703125 \nL 28.609375 0 \nL 18.3125 0 \nL 43.21875 64.59375 \nL 8.203125 64.59375 \nz\n\" id=\"DejaVuSans-55\"/>\n     </defs>\n     <use xlink:href=\"#DejaVuSans-49\"/>\n     <use x=\"63.623047\" xlink:href=\"#DejaVuSans-55\"/>\n    </g>\n   </g>\n   <g id=\"text_47\">\n    <!-- 30 -->\n    <g style=\"fill:#ffffff;\" transform=\"translate(223.424716 527.495682)scale(0.1 -0.1)\">\n     <use xlink:href=\"#DejaVuSans-51\"/>\n     <use x=\"63.623047\" xlink:href=\"#DejaVuSans-48\"/>\n    </g>\n   </g>\n   <g id=\"text_48\">\n    <!-- K-means++, train set -->\n    <g transform=\"translate(82.902017 312.827216)scale(0.12 -0.12)\">\n     <defs>\n      <path d=\"M 46 62.703125 \nL 46 35.5 \nL 73.1875 35.5 \nL 73.1875 27.203125 \nL 46 27.203125 \nL 46 0 \nL 37.796875 0 \nL 37.796875 27.203125 \nL 10.59375 27.203125 \nL 10.59375 35.5 \nL 37.796875 35.5 \nL 37.796875 62.703125 \nz\n\" id=\"DejaVuSans-43\"/>\n     </defs>\n     <use xlink:href=\"#DejaVuSans-75\"/>\n     <use x=\"55.076172\" xlink:href=\"#DejaVuSans-45\"/>\n     <use x=\"91.160156\" xlink:href=\"#DejaVuSans-109\"/>\n     <use x=\"188.572266\" xlink:href=\"#DejaVuSans-101\"/>\n     <use x=\"250.095703\" xlink:href=\"#DejaVuSans-97\"/>\n     <use x=\"311.375\" xlink:href=\"#DejaVuSans-110\"/>\n     <use x=\"374.753906\" xlink:href=\"#DejaVuSans-115\"/>\n     <use x=\"426.853516\" xlink:href=\"#DejaVuSans-43\"/>\n     <use x=\"510.642578\" xlink:href=\"#DejaVuSans-43\"/>\n     <use x=\"594.431641\" xlink:href=\"#DejaVuSans-44\"/>\n     <use x=\"626.21875\" xlink:href=\"#DejaVuSans-32\"/>\n     <use x=\"658.005859\" xlink:href=\"#DejaVuSans-116\"/>\n     <use x=\"697.214844\" xlink:href=\"#DejaVuSans-114\"/>\n     <use x=\"738.328125\" xlink:href=\"#DejaVuSans-97\"/>\n     <use x=\"799.607422\" xlink:href=\"#DejaVuSans-105\"/>\n     <use x=\"827.390625\" xlink:href=\"#DejaVuSans-110\"/>\n     <use x=\"890.769531\" xlink:href=\"#DejaVuSans-32\"/>\n     <use x=\"922.556641\" xlink:href=\"#DejaVuSans-115\"/>\n     <use x=\"974.65625\" xlink:href=\"#DejaVuSans-101\"/>\n     <use x=\"1036.179688\" xlink:href=\"#DejaVuSans-116\"/>\n    </g>\n   </g>\n  </g>\n  <g id=\"axes_4\">\n   <g id=\"patch_5\">\n    <path d=\"M 328.241761 565.918125 \nL 575.33267 565.918125 \nL 575.33267 318.827216 \nL 328.241761 318.827216 \nz\n\" style=\"fill:#ffffff;\"/>\n   </g>\n   <g id=\"QuadMesh_4\">\n    <path clip-path=\"url(#p4ce8d8c752)\" d=\"M 328.241761 318.827216 \nL 410.605398 318.827216 \nL 410.605398 401.190852 \nL 328.241761 401.190852 \nL 328.241761 318.827216 \n\" style=\"fill:#faebdd;stroke:#ffffff;stroke-width:0.5;\"/>\n    <path clip-path=\"url(#p4ce8d8c752)\" d=\"M 410.605398 318.827216 \nL 492.969034 318.827216 \nL 492.969034 401.190852 \nL 410.605398 401.190852 \nL 410.605398 318.827216 \n\" style=\"fill:#03051a;stroke:#ffffff;stroke-width:0.5;\"/>\n    <path clip-path=\"url(#p4ce8d8c752)\" d=\"M 492.969034 318.827216 \nL 575.33267 318.827216 \nL 575.33267 401.190852 \nL 492.969034 401.190852 \nL 492.969034 318.827216 \n\" style=\"fill:#03051a;stroke:#ffffff;stroke-width:0.5;\"/>\n    <path clip-path=\"url(#p4ce8d8c752)\" d=\"M 328.241761 401.190852 \nL 410.605398 401.190852 \nL 410.605398 483.554489 \nL 328.241761 483.554489 \nL 328.241761 401.190852 \n\" style=\"fill:#03051a;stroke:#ffffff;stroke-width:0.5;\"/>\n    <path clip-path=\"url(#p4ce8d8c752)\" d=\"M 410.605398 401.190852 \nL 492.969034 401.190852 \nL 492.969034 483.554489 \nL 410.605398 483.554489 \nL 410.605398 401.190852 \n\" style=\"fill:#f6ab83;stroke:#ffffff;stroke-width:0.5;\"/>\n    <path clip-path=\"url(#p4ce8d8c752)\" d=\"M 492.969034 401.190852 \nL 575.33267 401.190852 \nL 575.33267 483.554489 \nL 492.969034 483.554489 \nL 492.969034 401.190852 \n\" style=\"fill:#3f1b43;stroke:#ffffff;stroke-width:0.5;\"/>\n    <path clip-path=\"url(#p4ce8d8c752)\" d=\"M 328.241761 483.554489 \nL 410.605398 483.554489 \nL 410.605398 565.918125 \nL 328.241761 565.918125 \nL 328.241761 483.554489 \n\" style=\"fill:#03051a;stroke:#ffffff;stroke-width:0.5;\"/>\n    <path clip-path=\"url(#p4ce8d8c752)\" d=\"M 410.605398 483.554489 \nL 492.969034 483.554489 \nL 492.969034 565.918125 \nL 410.605398 565.918125 \nL 410.605398 483.554489 \n\" style=\"fill:#03051a;stroke:#ffffff;stroke-width:0.5;\"/>\n    <path clip-path=\"url(#p4ce8d8c752)\" d=\"M 492.969034 483.554489 \nL 575.33267 483.554489 \nL 575.33267 565.918125 \nL 492.969034 565.918125 \nL 492.969034 483.554489 \n\" style=\"fill:#cb1b4f;stroke:#ffffff;stroke-width:0.5;\"/>\n   </g>\n   <g id=\"matplotlib.axis_7\">\n    <g id=\"xtick_10\">\n     <g id=\"line2d_19\">\n      <g>\n       <use style=\"stroke:#000000;stroke-width:0.8;\" x=\"369.42358\" xlink:href=\"#m737fbdb2f9\" y=\"565.918125\"/>\n      </g>\n     </g>\n     <g id=\"text_49\">\n      <!-- 0 -->\n      <g transform=\"translate(366.24233 580.516562)scale(0.1 -0.1)\">\n       <use xlink:href=\"#DejaVuSans-48\"/>\n      </g>\n     </g>\n    </g>\n    <g id=\"xtick_11\">\n     <g id=\"line2d_20\">\n      <g>\n       <use style=\"stroke:#000000;stroke-width:0.8;\" x=\"451.787216\" xlink:href=\"#m737fbdb2f9\" y=\"565.918125\"/>\n      </g>\n     </g>\n     <g id=\"text_50\">\n      <!-- 1 -->\n      <g transform=\"translate(448.605966 580.516562)scale(0.1 -0.1)\">\n       <use xlink:href=\"#DejaVuSans-49\"/>\n      </g>\n     </g>\n    </g>\n    <g id=\"xtick_12\">\n     <g id=\"line2d_21\">\n      <g>\n       <use style=\"stroke:#000000;stroke-width:0.8;\" x=\"534.150852\" xlink:href=\"#m737fbdb2f9\" y=\"565.918125\"/>\n      </g>\n     </g>\n     <g id=\"text_51\">\n      <!-- 2 -->\n      <g transform=\"translate(530.969602 580.516562)scale(0.1 -0.1)\">\n       <use xlink:href=\"#DejaVuSans-50\"/>\n      </g>\n     </g>\n    </g>\n   </g>\n   <g id=\"matplotlib.axis_8\">\n    <g id=\"ytick_10\">\n     <g id=\"line2d_22\">\n      <g>\n       <use style=\"stroke:#000000;stroke-width:0.8;\" x=\"328.241761\" xlink:href=\"#m3279ad36b5\" y=\"360.009034\"/>\n      </g>\n     </g>\n     <g id=\"text_52\">\n      <!-- 0 -->\n      <g transform=\"translate(319.162074 362.572315)rotate(-90)scale(0.1 -0.1)\">\n       <use xlink:href=\"#DejaVuSans-48\"/>\n      </g>\n     </g>\n    </g>\n    <g id=\"ytick_11\">\n     <g id=\"line2d_23\">\n      <g>\n       <use style=\"stroke:#000000;stroke-width:0.8;\" x=\"328.241761\" xlink:href=\"#m3279ad36b5\" y=\"442.37267\"/>\n      </g>\n     </g>\n     <g id=\"text_53\">\n      <!-- 1 -->\n      <g transform=\"translate(319.162074 444.935952)rotate(-90)scale(0.1 -0.1)\">\n       <use xlink:href=\"#DejaVuSans-49\"/>\n      </g>\n     </g>\n    </g>\n    <g id=\"ytick_12\">\n     <g id=\"line2d_24\">\n      <g>\n       <use style=\"stroke:#000000;stroke-width:0.8;\" x=\"328.241761\" xlink:href=\"#m3279ad36b5\" y=\"524.736307\"/>\n      </g>\n     </g>\n     <g id=\"text_54\">\n      <!-- 2 -->\n      <g transform=\"translate(319.162074 527.299588)rotate(-90)scale(0.1 -0.1)\">\n       <use xlink:href=\"#DejaVuSans-50\"/>\n      </g>\n     </g>\n    </g>\n   </g>\n   <g id=\"text_55\">\n    <!-- 6 -->\n    <g style=\"fill:#262626;\" transform=\"translate(366.24233 362.768409)scale(0.1 -0.1)\">\n     <use xlink:href=\"#DejaVuSans-54\"/>\n    </g>\n   </g>\n   <g id=\"text_56\">\n    <!-- 0 -->\n    <g style=\"fill:#ffffff;\" transform=\"translate(448.605966 362.768409)scale(0.1 -0.1)\">\n     <use xlink:href=\"#DejaVuSans-48\"/>\n    </g>\n   </g>\n   <g id=\"text_57\">\n    <!-- 0 -->\n    <g style=\"fill:#ffffff;\" transform=\"translate(530.969602 362.768409)scale(0.1 -0.1)\">\n     <use xlink:href=\"#DejaVuSans-48\"/>\n    </g>\n   </g>\n   <g id=\"text_58\">\n    <!-- 0 -->\n    <g style=\"fill:#ffffff;\" transform=\"translate(366.24233 445.132045)scale(0.1 -0.1)\">\n     <use xlink:href=\"#DejaVuSans-48\"/>\n    </g>\n   </g>\n   <g id=\"text_59\">\n    <!-- 5 -->\n    <g style=\"fill:#262626;\" transform=\"translate(448.605966 445.132045)scale(0.1 -0.1)\">\n     <use xlink:href=\"#DejaVuSans-53\"/>\n    </g>\n   </g>\n   <g id=\"text_60\">\n    <!-- 1 -->\n    <g style=\"fill:#ffffff;\" transform=\"translate(530.969602 445.132045)scale(0.1 -0.1)\">\n     <use xlink:href=\"#DejaVuSans-49\"/>\n    </g>\n   </g>\n   <g id=\"text_61\">\n    <!-- 0 -->\n    <g style=\"fill:#ffffff;\" transform=\"translate(366.24233 527.495682)scale(0.1 -0.1)\">\n     <use xlink:href=\"#DejaVuSans-48\"/>\n    </g>\n   </g>\n   <g id=\"text_62\">\n    <!-- 0 -->\n    <g style=\"fill:#ffffff;\" transform=\"translate(448.605966 527.495682)scale(0.1 -0.1)\">\n     <use xlink:href=\"#DejaVuSans-48\"/>\n    </g>\n   </g>\n   <g id=\"text_63\">\n    <!-- 3 -->\n    <g style=\"fill:#ffffff;\" transform=\"translate(530.969602 527.495682)scale(0.1 -0.1)\">\n     <use xlink:href=\"#DejaVuSans-51\"/>\n    </g>\n   </g>\n   <g id=\"text_64\">\n    <!-- K-means++, test set -->\n    <g transform=\"translate(389.708778 312.827216)scale(0.12 -0.12)\">\n     <use xlink:href=\"#DejaVuSans-75\"/>\n     <use x=\"55.076172\" xlink:href=\"#DejaVuSans-45\"/>\n     <use x=\"91.160156\" xlink:href=\"#DejaVuSans-109\"/>\n     <use x=\"188.572266\" xlink:href=\"#DejaVuSans-101\"/>\n     <use x=\"250.095703\" xlink:href=\"#DejaVuSans-97\"/>\n     <use x=\"311.375\" xlink:href=\"#DejaVuSans-110\"/>\n     <use x=\"374.753906\" xlink:href=\"#DejaVuSans-115\"/>\n     <use x=\"426.853516\" xlink:href=\"#DejaVuSans-43\"/>\n     <use x=\"510.642578\" xlink:href=\"#DejaVuSans-43\"/>\n     <use x=\"594.431641\" xlink:href=\"#DejaVuSans-44\"/>\n     <use x=\"626.21875\" xlink:href=\"#DejaVuSans-32\"/>\n     <use x=\"658.005859\" xlink:href=\"#DejaVuSans-116\"/>\n     <use x=\"697.214844\" xlink:href=\"#DejaVuSans-101\"/>\n     <use x=\"758.738281\" xlink:href=\"#DejaVuSans-115\"/>\n     <use x=\"810.837891\" xlink:href=\"#DejaVuSans-116\"/>\n     <use x=\"850.046875\" xlink:href=\"#DejaVuSans-32\"/>\n     <use x=\"881.833984\" xlink:href=\"#DejaVuSans-115\"/>\n     <use x=\"933.933594\" xlink:href=\"#DejaVuSans-101\"/>\n     <use x=\"995.457031\" xlink:href=\"#DejaVuSans-116\"/>\n    </g>\n   </g>\n  </g>\n </g>\n <defs>\n  <clipPath id=\"p1b383f5a38\">\n   <rect height=\"247.090909\" width=\"247.090909\" x=\"23.878125\" y=\"22.318125\"/>\n  </clipPath>\n  <clipPath id=\"p076c77dc13\">\n   <rect height=\"247.090909\" width=\"247.090909\" x=\"328.241761\" y=\"22.318125\"/>\n  </clipPath>\n  <clipPath id=\"pf4a2b41394\">\n   <rect height=\"247.090909\" width=\"247.090909\" x=\"23.878125\" y=\"318.827216\"/>\n  </clipPath>\n  <clipPath id=\"p4ce8d8c752\">\n   <rect height=\"247.090909\" width=\"247.090909\" x=\"328.241761\" y=\"318.827216\"/>\n  </clipPath>\n </defs>\n</svg>\n",
      "image/png": "[encoded data removed]"
     },
     "metadata": {
      "needs_background": "light"
     }
    }
   ],
   "source": [
    "# and plot out confusion matrix\n",
    "from sklearn.metrics import confusion_matrix\n",
    "import matplotlib.pyplot as plt\n",
    "import seaborn as sn\n",
    "\n",
    "plt.figure(figsize=(10,10))\n",
    "fig = plt.subplot(2, 2, 1)\n",
    "sn.heatmap(confusion_matrix(y_train, y_train_pred), annot=True, cbar=False, square=True, linewidths=0.5)\n",
    "fig.set_title('K-means, train set')\n",
    "\n",
    "fig = plt.subplot(2, 2, 2)\n",
    "sn.heatmap(confusion_matrix(y_test, y_test_pred), annot=True, cbar=False, square=True, linewidths=0.5)\n",
    "fig.set_title('K-means, test set')\n",
    "\n",
    "fig = plt.subplot(2, 2, 3)\n",
    "sn.heatmap(confusion_matrix(y_train, y_train_pred_pp), annot=True, cbar=False, square=True, linewidths=0.5)\n",
    "fig.set_title('K-means++, train set')\n",
    "\n",
    "fig = plt.subplot(2, 2, 4)\n",
    "sn.heatmap(confusion_matrix(y_test, y_test_pred_pp), annot=True, cbar=False, square=True, linewidths=0.5)\n",
    "fig.set_title('K-means++, test set');"
   ]
  },
  {
   "cell_type": "code",
   "execution_count": 27,
   "metadata": {},
   "outputs": [
    {
     "output_type": "stream",
     "name": "stdout",
     "text": [
      "Defaulting to user installation because normal site-packages is not writeable\n",
      "Requirement already satisfied: seaborn in /home/thien/.local/lib/python3.8/site-packages (0.11.0)\n",
      "Requirement already satisfied: pandas>=0.23 in /home/thien/.local/lib/python3.8/site-packages (from seaborn) (1.1.4)\n",
      "Requirement already satisfied: numpy>=1.15 in /home/thien/.local/lib/python3.8/site-packages (from seaborn) (1.18.5)\n",
      "Requirement already satisfied: scipy>=1.0 in /home/thien/.local/lib/python3.8/site-packages (from seaborn) (1.5.4)\n",
      "Requirement already satisfied: matplotlib>=2.2 in /home/thien/.local/lib/python3.8/site-packages (from seaborn) (3.3.3)\n",
      "Requirement already satisfied: kiwisolver>=1.0.1 in /home/thien/.local/lib/python3.8/site-packages (from matplotlib>=2.2->seaborn) (1.3.1)\n",
      "Requirement already satisfied: cycler>=0.10 in /home/thien/.local/lib/python3.8/site-packages (from matplotlib>=2.2->seaborn) (0.10.0)\n",
      "Requirement already satisfied: pyparsing!=2.0.4,!=2.1.2,!=2.1.6,>=2.0.3 in /home/thien/.local/lib/python3.8/site-packages (from matplotlib>=2.2->seaborn) (2.4.7)\n",
      "Requirement already satisfied: python-dateutil>=2.1 in /usr/lib/python3/dist-packages (from matplotlib>=2.2->seaborn) (2.7.3)\n",
      "Requirement already satisfied: numpy>=1.15 in /home/thien/.local/lib/python3.8/site-packages (from seaborn) (1.18.5)\n",
      "Requirement already satisfied: pillow>=6.2.0 in /usr/lib/python3/dist-packages (from matplotlib>=2.2->seaborn) (7.0.0)\n",
      "Requirement already satisfied: six in /usr/lib/python3/dist-packages (from cycler>=0.10->matplotlib>=2.2->seaborn) (1.14.0)\n",
      "Requirement already satisfied: numpy>=1.15 in /home/thien/.local/lib/python3.8/site-packages (from seaborn) (1.18.5)\n",
      "Requirement already satisfied: python-dateutil>=2.1 in /usr/lib/python3/dist-packages (from matplotlib>=2.2->seaborn) (2.7.3)\n",
      "Requirement already satisfied: pytz>=2017.2 in /usr/lib/python3/dist-packages (from pandas>=0.23->seaborn) (2019.3)\n",
      "Requirement already satisfied: numpy>=1.15 in /home/thien/.local/lib/python3.8/site-packages (from seaborn) (1.18.5)\n"
     ]
    }
   ],
   "source": [
    "!pip install seaborn\n"
   ]
  },
  {
   "cell_type": "code",
   "execution_count": null,
   "metadata": {},
   "outputs": [],
   "source": []
  }
 ],
 "metadata": {
  "kernelspec": {
   "display_name": "Python 3.8.5 64-bit",
   "language": "python",
   "name": "python38564bit965c418c49d34b77866466ccaf04d081"
  },
  "language_info": {
   "codemirror_mode": {
    "name": "ipython",
    "version": 3
   },
   "file_extension": ".py",
   "mimetype": "text/x-python",
   "name": "python",
   "nbconvert_exporter": "python",
   "pygments_lexer": "ipython3",
   "version": "3.8.5-final"
  }
 },
 "nbformat": 4,
 "nbformat_minor": 4
}