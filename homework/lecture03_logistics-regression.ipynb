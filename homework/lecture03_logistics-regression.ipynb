{
 "cells": [
  {
   "cell_type": "markdown",
   "metadata": {},
   "source": [
    "# Homework 3: Logistics Regression\n",
    "Implement everywhere that has an ellipsis (`...`)."
   ]
  },
  {
   "cell_type": "code",
   "execution_count": 1,
   "metadata": {},
   "outputs": [],
   "source": [
    "import numpy as np\n",
    "import matplotlib.pyplot as plt"
   ]
  },
  {
   "cell_type": "markdown",
   "metadata": {},
   "source": [
    "### Load dataset"
   ]
  },
  {
   "cell_type": "code",
   "execution_count": 2,
   "metadata": {},
   "outputs": [],
   "source": [
    "from sklearn.datasets import load_iris\n",
    "data = load_iris()\n",
    "X, Y = data.data, data.target"
   ]
  },
  {
   "cell_type": "code",
   "execution_count": 3,
   "metadata": {},
   "outputs": [],
   "source": [
    "# only classify class 1 vs. class 2\n",
    "X = X[50:]\n",
    "Y = Y[50:].reshape(-1, 1)"
   ]
  },
  {
   "cell_type": "markdown",
   "metadata": {},
   "source": [
    "### Data normalization\n",
    "Remember: normalization is done per feature, not all at once. Also, remember that Y is [1, 2] instead of [0, 1]."
   ]
  },
  {
   "cell_type": "code",
   "execution_count": 4,
   "metadata": {},
   "outputs": [],
   "source": [
    "# Add bias\n",
    "X = np.hstack((np.ones((X.shape[0],1)), X))\n",
    "\n",
    "# Z-score normalization \n",
    "for i in range(1, 5):\n",
    "    T = X[:, i]\n",
    "    X[:, i] = (T - T.mean()) / T.std()\n",
    "\n",
    "# Label: Y[1, 2] -> Y[0, 1]\n",
    "Y = Y - 1"
   ]
  },
  {
   "cell_type": "markdown",
   "metadata": {},
   "source": [
    "### Define classification model\n",
    "Create parameters here. Initialize with zeros. In case you forgot: $Y = \\sigma(X\\Theta)$."
   ]
  },
  {
   "cell_type": "code",
   "execution_count": 5,
   "metadata": {},
   "outputs": [],
   "source": [
    "def sigmoid(z):\n",
    "    return 1/(1 + np.exp(-z))\n",
    "\n",
    "def compute_loss(X, Y, weight):\n",
    "    Y_pred = 1 / (1 + np.exp(-X @ weight))\n",
    "    loss = -np.sum(Y * np.log(Y_pred) + (1 - Y) * np.log(1 - Y_pred)) / Y.size\n",
    "    return loss\n",
    "\n",
    "def gradient_descent(X, Y, learning_rate, epochs):\n",
    "    \"\"\"\n",
    "    Input:\n",
    "        X:      (100, 5)\n",
    "        Y:      (100, 1)\n",
    "    Output: \n",
    "        weigth: (5, 1)\n",
    "        loss\n",
    "    \"\"\"\n",
    "    loss = []\n",
    "    weight = np.zeros((X.shape[1], 1))\n",
    "    N = Y.size\n",
    "    \n",
    "    for i in range(epochs):\n",
    "        loss.append(compute_loss(X, Y, weight))\n",
    "        weight -= learning_rate / N * (X.T @ (sigmoid(X @ weight) - Y))\n",
    "    return weight, loss"
   ]
  },
  {
   "cell_type": "markdown",
   "metadata": {},
   "source": [
    "### Define evaluation metrics"
   ]
  },
  {
   "cell_type": "code",
   "execution_count": 6,
   "metadata": {},
   "outputs": [],
   "source": [
    "def accuracy(X, Y, weight):\n",
    "    '''\n",
    "    Evaluate the model, represented by `weight`, with data (X, Y).\n",
    "    \n",
    "    Input:\n",
    "        X:      data features\n",
    "        Y:      data labels\n",
    "        weight: model weights\n",
    "    Ouput:\n",
    "        Model accuracy on input data.\n",
    "    '''\n",
    "    Y_pred = sigmoid(X @ weight)\n",
    "    Y_pred = np.array([1 if i > 0.5 else 0 for i in Y_pred]).reshape(-1, 1)\n",
    "    return np.sum(Y_pred == Y) / len(Y)"
   ]
  },
  {
   "cell_type": "markdown",
   "metadata": {},
   "source": [
    "### Hyperparameters"
   ]
  },
  {
   "cell_type": "code",
   "execution_count": 7,
   "metadata": {},
   "outputs": [],
   "source": [
    "# learning rate\n",
    "alpha = 1e-2\n",
    "# epochs\n",
    "epoch = 10000"
   ]
  },
  {
   "cell_type": "markdown",
   "metadata": {},
   "source": [
    "### Train the model"
   ]
  },
  {
   "cell_type": "code",
   "execution_count": 8,
   "metadata": {},
   "outputs": [
    {
     "data": {
      "text/plain": [
       "[<matplotlib.lines.Line2D at 0x1c2b5f70>]"
      ]
     },
     "execution_count": 8,
     "metadata": {},
     "output_type": "execute_result"
    },
    {
     "data": {
      "image/png": "[encoded data removed]",
      "text/plain": [
       "<Figure size 432x288 with 1 Axes>"
      ]
     },
     "metadata": {
      "needs_background": "light"
     },
     "output_type": "display_data"
    }
   ],
   "source": [
    "weight, loss = gradient_descent(X, Y, alpha, epoch)\n",
    "\n",
    "plt.plot(loss)"
   ]
  },
  {
   "cell_type": "code",
   "execution_count": 9,
   "metadata": {},
   "outputs": [],
   "source": [
    "# just to double check\n",
    "assert np.allclose(weight.reshape(1, -1), np.array([0.12047504, -0.44156746, -0.89309501, 2.965364, 3.3427994]))"
   ]
  },
  {
   "cell_type": "code",
   "execution_count": 10,
   "metadata": {},
   "outputs": [
    {
     "name": "stdout",
     "output_type": "stream",
     "text": [
      "Weights: [ 0.12047504 -0.44156746 -0.89309501  2.965364    3.3427994 ]\n",
      "Loss: 0.08662719407135402\n",
      "Accuracy: 0.96\n"
     ]
    }
   ],
   "source": [
    "# model accuracy\n",
    "print('Weights:', weight.reshape(1, -1)[0])\n",
    "print('Loss:', compute_loss(X, Y, weight))\n",
    "print('Accuracy:', accuracy(X, Y, weight))"
   ]
  },
  {
   "cell_type": "code",
   "execution_count": 11,
   "metadata": {},
   "outputs": [],
   "source": [
    "# do some fun code here and try to match this :)\n",
    "def GD_momentum(X, Y, learning_rate, epochs, gamma=0.1):\n",
    "    \"\"\"\n",
    "    Input:\n",
    "        X:      (100, 5)\n",
    "        Y:      (100, 1)\n",
    "    Output: \n",
    "        weigth: (5, 1)\n",
    "        loss\n",
    "    \"\"\"\n",
    "    loss = []\n",
    "    weight = np.zeros((X.shape[1], 1))\n",
    "    N = Y.size\n",
    "    v_old = np.zeros_like(weight)\n",
    "    \n",
    "    for i in range(epochs):\n",
    "        loss.append(compute_loss(X, Y, weight))\n",
    "        v_new = learning_rate / N * (X.T @ (sigmoid(X @ weight) - Y)) + gamma*v_old\n",
    "        weight -= v_new\n",
    "        v_old = v_new\n",
    "        \n",
    "    return weight, loss"
   ]
  },
  {
   "cell_type": "code",
   "execution_count": 12,
   "metadata": {},
   "outputs": [
    {
     "data": {
      "text/plain": [
       "[<matplotlib.lines.Line2D at 0x1c277868>]"
      ]
     },
     "execution_count": 12,
     "metadata": {},
     "output_type": "execute_result"
    },
    {
     "data": {
      "image/png": "[encoded data removed]",
      "text/plain": [
       "<Figure size 432x288 with 1 Axes>"
      ]
     },
     "metadata": {
      "needs_background": "light"
     },
     "output_type": "display_data"
    }
   ],
   "source": [
    "weight, loss = GD_momentum(X, Y, alpha, epoch, gamma=0.9)\n",
    "\n",
    "plt.plot(loss)"
   ]
  },
  {
   "cell_type": "code",
   "execution_count": 13,
   "metadata": {},
   "outputs": [
    {
     "name": "stdout",
     "output_type": "stream",
     "text": [
      "Weights: [-0.16187077 -1.34860389 -1.62897597  5.86455274  5.79730362]\n",
      "Loss: 0.06162407350931147\n",
      "Accuracy: 0.98\n"
     ]
    }
   ],
   "source": [
    "print('Weights:', weight.reshape(1, -1)[0])\n",
    "print('Loss:', compute_loss(X, Y, weight))\n",
    "print('Accuracy:', accuracy(X, Y, weight))"
   ]
  },
  {
   "cell_type": "code",
   "execution_count": null,
   "metadata": {},
   "outputs": [],
   "source": []
  }
 ],
 "metadata": {
  "kernelspec": {
   "display_name": "Python 3",
   "language": "python",
   "name": "python3"
  },
  "language_info": {
   "codemirror_mode": {
    "name": "ipython",
    "version": 3
   },
   "file_extension": ".py",
   "mimetype": "text/x-python",
   "name": "python",
   "nbconvert_exporter": "python",
   "pygments_lexer": "ipython3",
   "version": "3.8.3"
  }
 },
 "nbformat": 4,
 "nbformat_minor": 4
}