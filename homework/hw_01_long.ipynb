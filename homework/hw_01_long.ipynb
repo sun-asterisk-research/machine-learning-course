{
 "cells": [
  {
   "cell_type": "markdown",
   "metadata": {},
   "source": [
    "### BT1: cho 1 biến data kiểu string như bên dưới\n",
    "* Yêu cầu: giải mã mật thư, lấy tất cả các chữ cái đầu của từng dòng rồi ghép lại để được 1 câu cụ thể."
   ]
  },
  {
   "cell_type": "code",
   "execution_count": 1,
   "metadata": {},
   "outputs": [
    {
     "data": {
      "text/plain": [
       "'CROSSMYHEART'"
      ]
     },
     "execution_count": 1,
     "metadata": {},
     "output_type": "execute_result"
    }
   ],
   "source": [
    "data = '''\n",
    "Come to the\n",
    "River\n",
    "Of my\n",
    "Soulful\n",
    "Sentiments\n",
    "Meandering silently\n",
    "Yearning for release.\n",
    "Hasten\n",
    "Earnestly\n",
    "As my love flows by\n",
    "Rushing through the flood-gates\n",
    "To your heart.\n",
    "'''\n",
    "''.join(map(lambda i: i[0], data.strip().split('\\n')))"
   ]
  },
  {
   "cell_type": "markdown",
   "metadata": {},
   "source": [
    "### BT2:\n",
    "* Tính tổng tất cả các số trong kết quả của phép tính 2**10000"
   ]
  },
  {
   "cell_type": "code",
   "execution_count": 2,
   "metadata": {},
   "outputs": [
    {
     "data": {
      "text/plain": [
       "13561"
      ]
     },
     "execution_count": 2,
     "metadata": {},
     "output_type": "execute_result"
    }
   ],
   "source": [
    "sum(map(int, str(2 ** 10000)))"
   ]
  },
  {
   "cell_type": "markdown",
   "metadata": {},
   "source": [
    "### BT3\n",
    "- Cho đoạn bài hát sau\n",
    "```\n",
    "Ngư60ời 'theo hư@ơng' hoa 100mây mù [giăng lối]\n",
    "Làn 25 sương khó30i phôi phai 90 đưa bư$ớc ai xa rồi 35\n",
    "100Đơn c#ôi m99ình ta {vấn vương} hồi ức tro^ng ... men say (chiều mưa) buồ80n \n",
    "Ng~ăn \"giọt lệ\" ngừng k2hiến khoé mi sầu bi.1 \n",
    "```\n",
    "- làm rõ lời bài hát bằng cách loại bỏ toàn bộ các số và kí tự punctuation :) \n",
    "- punctuation là gì? \n",
    "```\n",
    "import string\n",
    "string.punctuation # :)\n",
    "```"
   ]
  },
  {
   "cell_type": "code",
   "execution_count": 3,
   "metadata": {},
   "outputs": [
    {
     "name": "stdout",
     "output_type": "stream",
     "text": [
      "\n",
      "Người theo hương hoa mây mù giăng lối\n",
      "Làn sương khói phôi phai đưa bước ai xa rồi\n",
      "Đơn côi mình ta vấn vương hồi ức trong men say chiều mưa buồn\n",
      "Ngăn giọt lệ ngừng khiến khoé mi sầu bi\n",
      "\n"
     ]
    }
   ],
   "source": [
    "from string import punctuation as pct\n",
    "lyric = '''\n",
    "Ngư60ời 'theo hư@ơng' hoa 100mây mù [giăng lối]\n",
    "Làn 25 sương khó30i phôi phai 90 đưa bư$ớc ai xa rồi 35\n",
    "100Đơn c#ôi m99ình ta {vấn vương} hồi ức tro^ng ... men say (chiều mưa) buồ80n \n",
    "Ng~ăn \"giọt lệ\" ngừng k2hiến khoé mi sầu bi.1 \n",
    "'''\n",
    "\n",
    "lyric = ''.join(filter(lambda i: i not in pct + '0123456789', lyric))\n",
    "print('\\n'.join(map(lambda i: ' '.join(i.split()), lyric.split('\\n'))))"
   ]
  },
  {
   "cell_type": "markdown",
   "metadata": {},
   "source": [
    "### BT4\n",
    "* Giải bài toán lớp 3 sau: https://vnexpress.net/bai-toan-lop-3-co-so-luong-dap-an-khong-lo-3220439.html\n",
    "\n",
    "* Các biến liệt kê bên dưới nằm trong đoạn từ 1 đến 9, hỏi có bn bộ giá trị thỏa mãn điều kiện sau:\n",
    "  ```python\n",
    "  a + 13 * b / c + d + 12 * e - f - 11 + g * h / i - 10 = 66\n",
    "  ```"
   ]
  },
  {
   "cell_type": "code",
   "execution_count": 4,
   "metadata": {},
   "outputs": [
    {
     "data": {
      "text/plain": [
       "453542"
      ]
     },
     "execution_count": 4,
     "metadata": {},
     "output_type": "execute_result"
    }
   ],
   "source": [
    "def count_solutions():\n",
    "    count = 0\n",
    "    x = [None] * 8\n",
    "    \n",
    "    def is_valid_result(x):\n",
    "        a = 87 - ((13 * x[0] * x[4] + x[2] * x[3] * x[1]) // (x[1] * x[4]) + x[5] + 12 * x[6] - x[7])\n",
    "        return 1 <= a <= 9\n",
    "    \n",
    "    def try_a_num(i):\n",
    "        nonlocal count\n",
    "        if i == 8:\n",
    "            if is_valid_result(x): count += 1\n",
    "        elif i == 4:\n",
    "            for x[i] in range(1, 10):\n",
    "                if (13 * x[0] * x[4] + x[2] * x[3] * x[1]) % (x[1] * x[4]) == 0:\n",
    "                    try_a_num(i + 1)\n",
    "        else:\n",
    "            for x[i] in range(1, 10):\n",
    "                try_a_num(i + 1)\n",
    "            \n",
    "    try_a_num(0)\n",
    "    return count\n",
    "\n",
    "count_solutions()"
   ]
  },
  {
   "cell_type": "markdown",
   "metadata": {},
   "source": [
    "### BT5\n",
    "* Nếu lần lượt cho các giá trị trong bảng chữ cái tiếng Anh như sau: a = 1, b = 2, c = 3, .... thì tổng giá trị của các từ khi quy đổi ra số là như sau:\n",
    "  ```sh\n",
    "  abc = 1 + 2 + 3 = 6\n",
    "  defgh = 4 + 5 + 6 + 7 + 8 = 30 \n",
    "  ....\n",
    "  ```\n",
    "* Hỏi các từ sau có giá trị là bao nhiêu: python, patience, documents, students, homework, practice, success, english, university, congratulation"
   ]
  },
  {
   "cell_type": "code",
   "execution_count": 5,
   "metadata": {},
   "outputs": [
    {
     "name": "stdout",
     "output_type": "stream",
     "text": [
      "python: 98\n",
      "patience: 73\n",
      "documents: 114\n",
      "students: 122\n",
      "homework: 108\n",
      "practice: 75\n",
      "success: 89\n",
      "english: 74\n",
      "university: 162\n",
      "congratulation: 170\n"
     ]
    }
   ],
   "source": [
    "def evalute_word(s):\n",
    "    return sum(map(lambda i: ord(i) - 96, s))\n",
    "words = 'python, patience, documents, students, homework, practice, success, english, university, congratulation'.split(', ')\n",
    "for w in words:\n",
    "    print(w + ':', evalute_word(w))"
   ]
  },
  {
   "cell_type": "markdown",
   "metadata": {},
   "source": [
    "### BT6\n",
    "* Viết code sinh các số fibonanci dưới 1000, lưu giữ kq vào 1 list."
   ]
  },
  {
   "cell_type": "code",
   "execution_count": 6,
   "metadata": {},
   "outputs": [
    {
     "data": {
      "text/plain": [
       "[1, 1, 2, 3, 5, 8, 13, 21, 34, 55, 89, 144, 233, 377, 610, 987]"
      ]
     },
     "execution_count": 6,
     "metadata": {},
     "output_type": "execute_result"
    }
   ],
   "source": [
    "def gen_fib(n):\n",
    "    a = []\n",
    "    f1, f2 = 1, 1\n",
    "    while f1 < n:\n",
    "        a.append(f1)\n",
    "        f1, f2 = f2, f1 + f2\n",
    "    return a\n",
    "gen_fib(1000)"
   ]
  },
  {
   "cell_type": "markdown",
   "metadata": {},
   "source": [
    "### BT7\n",
    "* Viết code sinh các số nguyên tố dưới 1000, lưu giữ kq vào 1 list."
   ]
  },
  {
   "cell_type": "code",
   "execution_count": 7,
   "metadata": {},
   "outputs": [
    {
     "name": "stdout",
     "output_type": "stream",
     "text": [
      "1229 9973\n"
     ]
    }
   ],
   "source": [
    "def gen_prime(n):\n",
    "    prime = [True] * n\n",
    "    for i in range(3, int(n ** 0.5) + 1, 2):\n",
    "        if prime[i]:\n",
    "            prime[i * i :: 2 * i] = [False] * ((n - i * i - 1) // (2 * i) + 1)\n",
    "    return [2] + [i for i in range(3, n, 2) if prime[i]]\n",
    "primes = gen_prime(10000)\n",
    "print(len(primes), primes[-1])"
   ]
  },
  {
   "cell_type": "markdown",
   "metadata": {},
   "source": [
    "### BT8\n",
    "* Cho đoạn văn bản sau\n",
    "* Trả về dict chứa 10 phần tử xuất hiện nhiều nhất cùng số lần xuất hiện theo format:\n",
    "  ```python\n",
    "  result = {\"if\": 10, ...}\n",
    "  ```\n",
    "* Lưu ý: không quan trọng uppercase và lowercase"
   ]
  },
  {
   "cell_type": "code",
   "execution_count": 8,
   "metadata": {},
   "outputs": [
    {
     "data": {
      "text/plain": [
       "{'and': 20,\n",
       " 'the': 16,\n",
       " 'python': 15,\n",
       " 'to': 9,\n",
       " 'in': 6,\n",
       " 'of': 6,\n",
       " 'a': 5,\n",
       " 'for': 5,\n",
       " 'be': 5,\n",
       " 'it': 4}"
      ]
     },
     "execution_count": 8,
     "metadata": {},
     "output_type": "execute_result"
    }
   ],
   "source": [
    "text = '''Python is an easy to learn, powerful programming language. It has efficient high-level data structures and a simple but effective approach to object-oriented programming. Python’s elegant syntax and dynamic typing, together with its interpreted nature, make it an ideal language for scripting and rapid application development in many areas on most platforms.\n",
    "The Python interpreter and the extensive standard library are freely available in source or binary form for all major platforms from the Python Web site, https://www.python.org/, and may be freely distributed. The same site also contains distributions of and pointers to many free third party Python modules, programs and tools, and additional documentation.\n",
    "The Python interpreter is easily extended with new functions and data types implemented in C or C++ (or other languages callable from C). Python is also suitable as an extension language for customizable applications.\n",
    "This tutorial introduces the reader informally to the basic concepts and features of the Python language and system. It helps to have a Python interpreter handy for hands-on experience, but all examples are self-contained, so the tutorial can be read off-line as well.\n",
    "For a description of standard objects and modules, see The Python Standard Library. The Python Language Reference gives a more formal definition of the language. To write extensions in C or C++, read Extending and Embedding the Python Interpreter and Python/C API Reference Manual. There are also several books covering Python in depth.\n",
    "This tutorial does not attempt to be comprehensive and cover every single feature, or even every commonly used feature. Instead, it introduces many of Python’s most noteworthy features, and will give you a good idea of the language’s flavor and style. After reading it, you will be able to read and write Python modules and programs, and you will be ready to learn more about the various Python library modules described in The Python Standard Library.'''\n",
    "\n",
    "from collections import Counter\n",
    "{w: c for w, c in Counter(text.lower().split()).most_common(10)}"
   ]
  },
  {
   "cell_type": "markdown",
   "metadata": {},
   "source": [
    "### BT9\n",
    "* Với 2 list:\n",
    "  ```python\n",
    "  A = [1, 2, 3, 4, 5, 6]\n",
    "  B = [3, 4, 5, 6, 7, 8, 9, 10]\n",
    "  ```\n",
    "* Lấy các phần tử:\n",
    "  * Có trong cả A, B\n",
    "  * Chỉ có trong A\n",
    "  * Chỉ có trong B\n",
    "  * Không có trong cả A và B"
   ]
  },
  {
   "cell_type": "code",
   "execution_count": 9,
   "metadata": {},
   "outputs": [
    {
     "name": "stdout",
     "output_type": "stream",
     "text": [
      "in both A and B: {3, 4, 5, 6}\n",
      "just in A: {1, 2}\n",
      "just in B: {8, 9, 10, 7}\n",
      "not in (A and B): {1, 2, 7, 8, 9, 10}\n"
     ]
    }
   ],
   "source": [
    "l1 = {1, 2, 3, 4, 5, 6}\n",
    "l2 = {3, 4, 5, 6, 7, 8, 9, 10}\n",
    "\n",
    "print('in both A and B:', l1 & l2)\n",
    "print('just in A:', l1 - l2)\n",
    "print('just in B:', l2 - l1)\n",
    "print('not in (A and B):', (l1 | l2) - (l1 & l2))"
   ]
  },
  {
   "cell_type": "markdown",
   "metadata": {},
   "source": [
    "### BT10\n",
    "* Trả về 1 list n tuple được định nghĩa như sau:\n",
    "  ```python\n",
    "  years = [(1900, \"Canh Tí\"), ... (2019, \"Kỷ Hợi\")]\n",
    "  ```\n",
    "* với năm chạy từ 1900 đến 2019, output yêu cầu trả về đúng như format bên trên, bao gồm năm và can chi tương ứng\n",
    "* Chú ý viết hoa các chữ cái đầu"
   ]
  },
  {
   "cell_type": "code",
   "execution_count": 10,
   "metadata": {},
   "outputs": [
    {
     "data": {
      "text/plain": [
       "[(1900, 'Canh Tý'),\n",
       " (1901, 'Tân Sửu'),\n",
       " (1902, 'Nhâm Dần'),\n",
       " (1903, 'Quý Mão'),\n",
       " (1904, 'Giáp Thìn'),\n",
       " (1905, 'Ất Tỵ'),\n",
       " (1906, 'Bính Ngọ'),\n",
       " (1907, 'Đinh Mùi'),\n",
       " (1908, 'Mậu Thân'),\n",
       " (1909, 'Kỷ Dậu'),\n",
       " (1910, 'Canh Tuất'),\n",
       " (1911, 'Tân Hợi'),\n",
       " (1912, 'Nhâm Tý'),\n",
       " (1913, 'Quý Sửu'),\n",
       " (1914, 'Giáp Dần'),\n",
       " (1915, 'Ất Mão'),\n",
       " (1916, 'Bính Thìn'),\n",
       " (1917, 'Đinh Tỵ'),\n",
       " (1918, 'Mậu Ngọ'),\n",
       " (1919, 'Kỷ Mùi'),\n",
       " (1920, 'Canh Thân'),\n",
       " (1921, 'Tân Dậu'),\n",
       " (1922, 'Nhâm Tuất'),\n",
       " (1923, 'Quý Hợi'),\n",
       " (1924, 'Giáp Tý'),\n",
       " (1925, 'Ất Sửu'),\n",
       " (1926, 'Bính Dần'),\n",
       " (1927, 'Đinh Mão'),\n",
       " (1928, 'Mậu Thìn'),\n",
       " (1929, 'Kỷ Tỵ'),\n",
       " (1930, 'Canh Ngọ'),\n",
       " (1931, 'Tân Mùi'),\n",
       " (1932, 'Nhâm Thân'),\n",
       " (1933, 'Quý Dậu'),\n",
       " (1934, 'Giáp Tuất'),\n",
       " (1935, 'Ất Hợi'),\n",
       " (1936, 'Bính Tý'),\n",
       " (1937, 'Đinh Sửu'),\n",
       " (1938, 'Mậu Dần'),\n",
       " (1939, 'Kỷ Mão'),\n",
       " (1940, 'Canh Thìn'),\n",
       " (1941, 'Tân Tỵ'),\n",
       " (1942, 'Nhâm Ngọ'),\n",
       " (1943, 'Quý Mùi'),\n",
       " (1944, 'Giáp Thân'),\n",
       " (1945, 'Ất Dậu'),\n",
       " (1946, 'Bính Tuất'),\n",
       " (1947, 'Đinh Hợi'),\n",
       " (1948, 'Mậu Tý'),\n",
       " (1949, 'Kỷ Sửu'),\n",
       " (1950, 'Canh Dần'),\n",
       " (1951, 'Tân Mão'),\n",
       " (1952, 'Nhâm Thìn'),\n",
       " (1953, 'Quý Tỵ'),\n",
       " (1954, 'Giáp Ngọ'),\n",
       " (1955, 'Ất Mùi'),\n",
       " (1956, 'Bính Thân'),\n",
       " (1957, 'Đinh Dậu'),\n",
       " (1958, 'Mậu Tuất'),\n",
       " (1959, 'Kỷ Hợi'),\n",
       " (1960, 'Canh Tý'),\n",
       " (1961, 'Tân Sửu'),\n",
       " (1962, 'Nhâm Dần'),\n",
       " (1963, 'Quý Mão'),\n",
       " (1964, 'Giáp Thìn'),\n",
       " (1965, 'Ất Tỵ'),\n",
       " (1966, 'Bính Ngọ'),\n",
       " (1967, 'Đinh Mùi'),\n",
       " (1968, 'Mậu Thân'),\n",
       " (1969, 'Kỷ Dậu'),\n",
       " (1970, 'Canh Tuất'),\n",
       " (1971, 'Tân Hợi'),\n",
       " (1972, 'Nhâm Tý'),\n",
       " (1973, 'Quý Sửu'),\n",
       " (1974, 'Giáp Dần'),\n",
       " (1975, 'Ất Mão'),\n",
       " (1976, 'Bính Thìn'),\n",
       " (1977, 'Đinh Tỵ'),\n",
       " (1978, 'Mậu Ngọ'),\n",
       " (1979, 'Kỷ Mùi'),\n",
       " (1980, 'Canh Thân'),\n",
       " (1981, 'Tân Dậu'),\n",
       " (1982, 'Nhâm Tuất'),\n",
       " (1983, 'Quý Hợi'),\n",
       " (1984, 'Giáp Tý'),\n",
       " (1985, 'Ất Sửu'),\n",
       " (1986, 'Bính Dần'),\n",
       " (1987, 'Đinh Mão'),\n",
       " (1988, 'Mậu Thìn'),\n",
       " (1989, 'Kỷ Tỵ'),\n",
       " (1990, 'Canh Ngọ'),\n",
       " (1991, 'Tân Mùi'),\n",
       " (1992, 'Nhâm Thân'),\n",
       " (1993, 'Quý Dậu'),\n",
       " (1994, 'Giáp Tuất'),\n",
       " (1995, 'Ất Hợi'),\n",
       " (1996, 'Bính Tý'),\n",
       " (1997, 'Đinh Sửu'),\n",
       " (1998, 'Mậu Dần'),\n",
       " (1999, 'Kỷ Mão'),\n",
       " (2000, 'Canh Thìn'),\n",
       " (2001, 'Tân Tỵ'),\n",
       " (2002, 'Nhâm Ngọ'),\n",
       " (2003, 'Quý Mùi'),\n",
       " (2004, 'Giáp Thân'),\n",
       " (2005, 'Ất Dậu'),\n",
       " (2006, 'Bính Tuất'),\n",
       " (2007, 'Đinh Hợi'),\n",
       " (2008, 'Mậu Tý'),\n",
       " (2009, 'Kỷ Sửu'),\n",
       " (2010, 'Canh Dần'),\n",
       " (2011, 'Tân Mão'),\n",
       " (2012, 'Nhâm Thìn'),\n",
       " (2013, 'Quý Tỵ'),\n",
       " (2014, 'Giáp Ngọ'),\n",
       " (2015, 'Ất Mùi'),\n",
       " (2016, 'Bính Thân'),\n",
       " (2017, 'Đinh Dậu'),\n",
       " (2018, 'Mậu Tuất'),\n",
       " (2019, 'Kỷ Hợi')]"
      ]
     },
     "execution_count": 10,
     "metadata": {},
     "output_type": "execute_result"
    }
   ],
   "source": [
    "can = 'Canh Tân Nhâm Quý Giáp Ất Bính Đinh Mậu Kỷ'.split()\n",
    "chi = 'Tý Sửu Dần Mão Thìn Tỵ Ngọ Mùi Thân Dậu Tuất Hợi'.split()\n",
    "from itertools import cycle\n",
    "list(zip(range(1900, 2020), [can + ' ' + chi for can, chi in zip(can * 12, cycle(chi))]))"
   ]
  },
  {
   "cell_type": "code",
   "execution_count": null,
   "metadata": {},
   "outputs": [],
   "source": []
  }
 ],
 "metadata": {
  "kernelspec": {
   "display_name": "Python 3",
   "language": "python",
   "name": "python3"
  },
  "language_info": {
   "codemirror_mode": {
    "name": "ipython",
    "version": 3
   },
   "file_extension": ".py",
   "mimetype": "text/x-python",
   "name": "python",
   "nbconvert_exporter": "python",
   "pygments_lexer": "ipython3",
   "version": "3.8.6"
  }
 },
 "nbformat": 4,
 "nbformat_minor": 4
}
