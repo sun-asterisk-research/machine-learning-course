{
 "cells": [
  {
   "cell_type": "markdown",
   "metadata": {},
   "source": [
    "# Homework 3: Logistics Regression\n",
    "Implement everywhere that has an ellipsis (`...`)."
   ]
  },
  {
   "cell_type": "code",
   "execution_count": 540,
   "metadata": {},
   "outputs": [],
   "source": [
    "import numpy as np\n",
    "import matplotlib.pyplot as plt"
   ]
  },
  {
   "cell_type": "markdown",
   "metadata": {},
   "source": [
    "### Load dataset"
   ]
  },
  {
   "cell_type": "code",
   "execution_count": 541,
   "metadata": {},
   "outputs": [],
   "source": [
    "from sklearn.datasets import load_iris\n",
    "data = load_iris()\n",
    "X, Y = data.data, data.target"
   ]
  },
  {
   "cell_type": "markdown",
   "metadata": {},
   "source": [
    "##### class 1, class cũ sẽ tương ứng là class 0, class 1 mới"
   ]
  },
  {
   "cell_type": "code",
   "execution_count": 542,
   "metadata": {},
   "outputs": [],
   "source": [
    "# only classify class 1 vs. class 2\n",
    "X_data = X[Y >= 1, :]\n",
    "y_data = Y[Y >= 1] - 1"
   ]
  },
  {
   "cell_type": "markdown",
   "metadata": {},
   "source": [
    "### Data normalization\n",
    "Remember: normalization is done per feature, not all at once. Also, remember that Y is [1, 2] instead of [0, 1]."
   ]
  },
  {
   "cell_type": "code",
   "execution_count": 543,
   "metadata": {},
   "outputs": [],
   "source": [
    "# Write your code here. Don't forget the bias!\n",
    "def normalization_z1_score(X):\n",
    "    u = []\n",
    "    o = []\n",
    "    for j in range(X.shape[1]):\n",
    "        u.append(np.mean(X[:,j]))\n",
    "        o.append(np.std(X[:,j]))\n",
    "    for i in range(X.shape[0]):\n",
    "        for j in range(X.shape[1]):\n",
    "            X[i][j] = (X[i][j] - u[j])/o[j]\n",
    "    return X"
   ]
  },
  {
   "cell_type": "code",
   "execution_count": 560,
   "metadata": {},
   "outputs": [],
   "source": [
    "def normalization_min_max_scaling(X):\n",
    "    maxx = []\n",
    "    minn = []\n",
    "    for j in range(X.shape[1]):\n",
    "        maxx.append(np.max(X[:,j]))\n",
    "        minn.append(np.min(X[:,j]))\n",
    "    for i in range(X.shape[0]):\n",
    "        for j in range(X.shape[1]):\n",
    "            X[i][j] = (X[i][j] - minn[j])/(maxx[j] - minn[j])\n",
    "    return X"
   ]
  },
  {
   "cell_type": "markdown",
   "metadata": {},
   "source": [
    "### Define classification model\n",
    "Create parameters here. Initialize with zeros. In case you forgot: $Y = \\sigma(X\\Theta)$."
   ]
  },
  {
   "cell_type": "code",
   "execution_count": 545,
   "metadata": {},
   "outputs": [],
   "source": [
    "def init(X_data):\n",
    "    weight = np.zeros(X_data.shape[1] + 1)\n",
    "    X_data = np.insert(X_data,0,np.ones(X_data.shape[0]),axis = 1)\n",
    "    return weight,X_data"
   ]
  },
  {
   "cell_type": "markdown",
   "metadata": {},
   "source": [
    "### Define evaluation metrics"
   ]
  },
  {
   "cell_type": "code",
   "execution_count": 546,
   "metadata": {},
   "outputs": [],
   "source": [
    "from sklearn.metrics import accuracy_score,classification_report\n",
    "\n",
    "\n",
    "def accuracy(X, Y, weight):\n",
    "    '''\n",
    "    Evaluate the model, represented by `weight`, with data (X, Y).\n",
    "    \n",
    "    Input:\n",
    "        X:      data features\n",
    "        Y:      data labels\n",
    "        weight: model weights\n",
    "    Ouput:\n",
    "        Model accuracy on input data.\n",
    "    '''\n",
    "    \n",
    "    # implement your code here\n",
    "    y_pred = (1/(1 + np.exp(-np.dot(X, weight)))) > 0.5\n",
    "    y_pred = y_pred.astype(int) \n",
    "    print(\"Accuracy score: %f\" % accuracy_score(Y,y_pred))\n",
    "    print(classification_report(Y, y_pred))"
   ]
  },
  {
   "cell_type": "markdown",
   "metadata": {},
   "source": [
    "### Hyperparameters"
   ]
  },
  {
   "cell_type": "code",
   "execution_count": 547,
   "metadata": {},
   "outputs": [],
   "source": [
    "# learning rate\n",
    "alpha = 0.01\n",
    "# epochs\n",
    "epoch = 10000"
   ]
  },
  {
   "cell_type": "markdown",
   "metadata": {},
   "source": [
    "### Binary cross entropy loss"
   ]
  },
  {
   "cell_type": "code",
   "execution_count": 548,
   "metadata": {},
   "outputs": [],
   "source": [
    "def binany_cross_entropy(y_data, y_pred):\n",
    "    J = -np.mean(y_data*np.log(y_pred) + (1-y_data)*np.log(1-y_pred))\n",
    "    return J"
   ]
  },
  {
   "cell_type": "markdown",
   "metadata": {},
   "source": [
    "### Train the model."
   ]
  },
  {
   "cell_type": "code",
   "execution_count": 549,
   "metadata": {},
   "outputs": [],
   "source": [
    "# your code here\n",
    "def train_model(X_data, y_data, weight, alpha = 0.01, epoch = 10000):\n",
    "    loss = []\n",
    "    for i in range(epoch):\n",
    "        y_pred = 1/(1 + np.exp(-np.dot(X_data, weight)))\n",
    "        weight = weight - (alpha/(X_data.shape[0])) * np.dot(X_data.T, (y_pred - y_data))\n",
    "        loss.append(binany_cross_entropy(y_data,y_pred))\n",
    "    return weight,loss"
   ]
  },
  {
   "cell_type": "code",
   "execution_count": 550,
   "metadata": {},
   "outputs": [
    {
     "data": {
      "text/plain": [
       "array([ 0.12047504, -0.44156746, -0.89309501,  2.965364  ,  3.3427994 ])"
      ]
     },
     "execution_count": 550,
     "metadata": {},
     "output_type": "execute_result"
    }
   ],
   "source": [
    "#normalization z1_score\n",
    "X_train = normalization_z1_score(X_data)\n",
    "\n",
    "#init\n",
    "weight,X_train = init(X_train)\n",
    "\n",
    "#train\n",
    "weight,loss_history = train_model(X_train,y_data,weight,alpha = alpha,epoch = epoch)\n",
    "weight"
   ]
  },
  {
   "cell_type": "code",
   "execution_count": 551,
   "metadata": {},
   "outputs": [],
   "source": [
    "# just to double check\n",
    "assert np.allclose(weight, np.array([0.12047504, -0.44156746, -0.89309501, 2.965364, 3.3427994]))"
   ]
  },
  {
   "cell_type": "code",
   "execution_count": 552,
   "metadata": {},
   "outputs": [
    {
     "name": "stdout",
     "output_type": "stream",
     "text": [
      "Accuracy score: 0.960000\n",
      "              precision    recall  f1-score   support\n",
      "\n",
      "           0       0.98      0.94      0.96        50\n",
      "           1       0.94      0.98      0.96        50\n",
      "\n",
      "    accuracy                           0.96       100\n",
      "   macro avg       0.96      0.96      0.96       100\n",
      "weighted avg       0.96      0.96      0.96       100\n",
      "\n"
     ]
    }
   ],
   "source": [
    "# model accuracy\n",
    "accuracy(X_train, y_data, weight)"
   ]
  },
  {
   "cell_type": "code",
   "execution_count": 553,
   "metadata": {},
   "outputs": [],
   "source": [
    "def plot(loss):  \n",
    "    plt.figure(figsize=(10, 6))\n",
    "    plt.plot(loss, label='Loss History', alpha=0.5)\n",
    "    plt.legend()\n",
    "    plt.show()"
   ]
  },
  {
   "cell_type": "code",
   "execution_count": 554,
   "metadata": {},
   "outputs": [
    {
     "data": {
      "image/png": "[encoded data removed]",
      "text/plain": [
       "<Figure size 720x432 with 1 Axes>"
      ]
     },
     "metadata": {
      "needs_background": "light"
     },
     "output_type": "display_data"
    }
   ],
   "source": [
    "plot(loss_history)"
   ]
  },
  {
   "cell_type": "markdown",
   "metadata": {},
   "source": [
    "### (Optional) How low can you go?\n",
    "Do anything you want to get the best performance out of the training set. For once, let's overfit to your heart's content."
   ]
  },
  {
   "cell_type": "code",
   "execution_count": 555,
   "metadata": {},
   "outputs": [],
   "source": [
    "# do some fun code here and try to match this :)\n",
    "..."
   ]
  },
  {
   "cell_type": "markdown",
   "metadata": {},
   "source": [
    "### No normalization, learning rate = 3, epoch = 10000"
   ]
  },
  {
   "cell_type": "code",
   "execution_count": 585,
   "metadata": {},
   "outputs": [
    {
     "name": "stdout",
     "output_type": "stream",
     "text": [
      "Weights: [-0.35439035 -1.62584135 -2.21192533  7.74566651  7.72842953]\n",
      "Loss: 5.949273395683964\n",
      "Accuracy score: 0.980000\n",
      "              precision    recall  f1-score   support\n",
      "\n",
      "           0       0.98      0.98      0.98        50\n",
      "           1       0.98      0.98      0.98        50\n",
      "\n",
      "    accuracy                           0.98       100\n",
      "   macro avg       0.98      0.98      0.98       100\n",
      "weighted avg       0.98      0.98      0.98       100\n",
      "\n"
     ]
    },
    {
     "data": {
      "image/png": "[encoded data removed]",
      "text/plain": [
       "<Figure size 720x432 with 1 Axes>"
      ]
     },
     "metadata": {
      "needs_background": "light"
     },
     "output_type": "display_data"
    }
   ],
   "source": [
    "weight,X_train = init(X_data)\n",
    "weight,loss_history = train_model(X_train,y_data,weight,alpha = 3,epoch = 10000)\n",
    "\n",
    "print('Weights:', weight)\n",
    "y = 1 / (1 + np.exp(-X_train @ weight))\n",
    "loss = -np.sum(y_data * np.log(y) + (1 - y_data) * np.log(1 - y))\n",
    "print('Loss:', loss)\n",
    "accuracy(X_train, y_data, weight)\n",
    "plot(loss_history)"
   ]
  },
  {
   "cell_type": "markdown",
   "metadata": {},
   "source": [
    "### Feature Normalization - Min-max scaling, learning rate = 3, epoch = 10000"
   ]
  },
  {
   "cell_type": "code",
   "execution_count": 567,
   "metadata": {},
   "outputs": [
    {
     "name": "stdout",
     "output_type": "stream",
     "text": [
      "Weights: [-16.86044808  -6.26008271  -9.76063009  28.89518872  22.43131853]\n",
      "Loss: 6.083551331687144\n",
      "Accuracy score: 0.980000\n",
      "              precision    recall  f1-score   support\n",
      "\n",
      "           0       0.98      0.98      0.98        50\n",
      "           1       0.98      0.98      0.98        50\n",
      "\n",
      "    accuracy                           0.98       100\n",
      "   macro avg       0.98      0.98      0.98       100\n",
      "weighted avg       0.98      0.98      0.98       100\n",
      "\n"
     ]
    },
    {
     "data": {
      "image/png": "[encoded data removed]",
      "text/plain": [
       "<Figure size 720x432 with 1 Axes>"
      ]
     },
     "metadata": {
      "needs_background": "light"
     },
     "output_type": "display_data"
    }
   ],
   "source": [
    "X_train = normalization_min_max_scaling(X_data)\n",
    "weight,X_train = init(X_train)\n",
    "weight,loss_history = train_model(X_train,y_data,weight,alpha = 3,epoch = 10000)\n",
    "\n",
    "print('Weights:', weight)\n",
    "y = 1 / (1 + np.exp(-X_train @ weight))\n",
    "loss = -np.sum(y_data * np.log(y) + (1 - y_data) * np.log(1 - y))\n",
    "print('Loss:', loss)\n",
    "accuracy(X_train, y_data, weight)\n",
    "plot(loss_history)"
   ]
  },
  {
   "cell_type": "markdown",
   "metadata": {},
   "source": [
    "### Feature Normalization z1-score, learning rate = 3, epoch = 10000"
   ]
  },
  {
   "cell_type": "code",
   "execution_count": 583,
   "metadata": {},
   "outputs": [
    {
     "name": "stdout",
     "output_type": "stream",
     "text": [
      "Weights: [-0.35439035 -1.62584135 -2.21192533  7.74566651  7.72842953]\n",
      "Loss: 5.949273395683964\n",
      "Accuracy score: 0.980000\n",
      "              precision    recall  f1-score   support\n",
      "\n",
      "           0       0.98      0.98      0.98        50\n",
      "           1       0.98      0.98      0.98        50\n",
      "\n",
      "    accuracy                           0.98       100\n",
      "   macro avg       0.98      0.98      0.98       100\n",
      "weighted avg       0.98      0.98      0.98       100\n",
      "\n"
     ]
    },
    {
     "data": {
      "image/png": "[encoded data removed]",
      "text/plain": [
       "<Figure size 720x432 with 1 Axes>"
      ]
     },
     "metadata": {
      "needs_background": "light"
     },
     "output_type": "display_data"
    }
   ],
   "source": [
    "X_train = normalization_z1_score(X_data)\n",
    "weight,X_train = init(X_train)\n",
    "weight,loss_history = train_model(X_train,y_data,weight,alpha = 3,epoch = 10000)\n",
    "\n",
    "print('Weights:', weight)\n",
    "y = 1 / (1 + np.exp(-X_train @ weight))\n",
    "loss = -np.sum(y_data * np.log(y) + (1 - y_data) * np.log(1 - y))\n",
    "print('Loss:', loss)\n",
    "accuracy(X_train, y_data, weight)\n",
    "plot(loss_history)"
   ]
  },
  {
   "cell_type": "markdown",
   "metadata": {},
   "source": [
    "### Feature Normalization z1-score, learning rate = 3, epoch = 10000, GD with momentum = 0.1"
   ]
  },
  {
   "cell_type": "code",
   "execution_count": 581,
   "metadata": {},
   "outputs": [],
   "source": [
    "# your code here\n",
    "def train_model_GD_momentum(X_data, y_data, weight, alpha = 0.01, epoch = 10000,momentum = 0.1):\n",
    "    loss = []\n",
    "    weight_old = np.zeros(X_data.shape[1])\n",
    "    for i in range(epoch):\n",
    "        y_pred = 1/(1 + np.exp(-np.dot(X_data, weight)))\n",
    "        weight = weight - momentum*weight_old - (alpha/(X_data.shape[0])) * np.dot(X_data.T, (y_pred - y_data))\n",
    "        weight_old = weight\n",
    "        loss.append(binany_cross_entropy(y_data,y_pred))\n",
    "    return weight,loss"
   ]
  },
  {
   "cell_type": "code",
   "execution_count": 582,
   "metadata": {},
   "outputs": [
    {
     "name": "stdout",
     "output_type": "stream",
     "text": [
      "Weights: [-0.12075756 -1.27881875 -1.48152014  5.45618645  5.30304614]\n",
      "Loss: 6.3066694111257275\n",
      "Accuracy score: 0.980000\n",
      "              precision    recall  f1-score   support\n",
      "\n",
      "           0       0.98      0.98      0.98        50\n",
      "           1       0.98      0.98      0.98        50\n",
      "\n",
      "    accuracy                           0.98       100\n",
      "   macro avg       0.98      0.98      0.98       100\n",
      "weighted avg       0.98      0.98      0.98       100\n",
      "\n"
     ]
    },
    {
     "data": {
      "image/png": "[encoded data removed]",
      "text/plain": [
       "<Figure size 720x432 with 1 Axes>"
      ]
     },
     "metadata": {
      "needs_background": "light"
     },
     "output_type": "display_data"
    }
   ],
   "source": [
    "X_train = normalization_z1_score(X_data)\n",
    "weight,X_train = init(X_train)\n",
    "weight,loss_history = train_model_GD_momentum(X_train,y_data,weight,alpha = 3,epoch = 10000,momentum = 0.001)\n",
    "\n",
    "print('Weights:', weight)\n",
    "y = 1 / (1 + np.exp(-X_train @ weight))\n",
    "loss = -np.sum(y_data * np.log(y) + (1 - y_data) * np.log(1 - y))\n",
    "print('Loss:', loss)\n",
    "accuracy(X_train, y_data, weight)\n",
    "plot(loss_history)"
   ]
  },
  {
   "cell_type": "markdown",
   "metadata": {},
   "source": [
    "# KẾT LUẬN "
   ]
  },
  {
   "cell_type": "markdown",
   "metadata": {},
   "source": [
    "- Lúc đầu acc đạt 96% là do leanrning rate thấp, cải thiện bằng tăng leanrning cao lên hoặc tăng số epoch lên \n",
    "- Sử dụng feature nomalization với bài này không ảnh hưởng quá nhiều tới kết quả cuối \n",
    "- Gradient Descent với momentum khiến hàm loss cao hơn (có thể là do chưa chọn learning rate với momentum phù hợp)\n",
    "- Hàm loss từ epoch tầm khoảng 1000 bắt đầu đi ngang => có thể đoán đã đạt cực tiểu (hoặc rơi vào cực tiểu địa phương) "
   ]
  },
  {
   "cell_type": "code",
   "execution_count": null,
   "metadata": {},
   "outputs": [],
   "source": []
  }
 ],
 "metadata": {
  "kernelspec": {
   "display_name": "Python 3",
   "language": "python",
   "name": "python3"
  },
  "language_info": {
   "codemirror_mode": {
    "name": "ipython",
    "version": 3
   },
   "file_extension": ".py",
   "mimetype": "text/x-python",
   "name": "python",
   "nbconvert_exporter": "python",
   "pygments_lexer": "ipython3",
   "version": "3.6.12"
  }
 },
 "nbformat": 4,
 "nbformat_minor": 4
}
