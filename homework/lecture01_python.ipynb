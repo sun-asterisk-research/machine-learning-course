{
 "cells": [
  {
   "cell_type": "markdown",
   "metadata": {},
   "source": [
    "# BT1"
   ]
  },
  {
   "cell_type": "markdown",
   "metadata": {},
   "source": [
    "Yêu cầu: giải mã mật thư, lấy tất cả các chữ cái đầu của từng dòng rồi ghép lại để được 1 câu cụ thể."
   ]
  },
  {
   "cell_type": "code",
   "execution_count": 2,
   "metadata": {},
   "outputs": [],
   "source": [
    "data = '''\n",
    "Come to the\n",
    "River\n",
    "Of my\n",
    "Soulful\n",
    "Sentiments\n",
    "Meandering silently\n",
    "Yearning for release.\n",
    "Hasten\n",
    "Earnestly\n",
    "As my love flows by\n",
    "Rushing through the flood-gates\n",
    "To your heart.\n",
    "'''\n",
    "# https://www.poetrysoup.com/poem/cross_my_heart_609765"
   ]
  },
  {
   "cell_type": "code",
   "execution_count": 12,
   "metadata": {},
   "outputs": [
    {
     "data": {
      "text/plain": [
       "'CROSSMYHEART'"
      ]
     },
     "execution_count": 12,
     "metadata": {},
     "output_type": "execute_result"
    }
   ],
   "source": [
    "''.join([st[0] for st in data.strip().split('\\n')])"
   ]
  },
  {
   "cell_type": "markdown",
   "metadata": {},
   "source": [
    "# BT2"
   ]
  },
  {
   "cell_type": "markdown",
   "metadata": {},
   "source": [
    "Tính tổng tất cả các số trong kết quả của phép tính 2**10000"
   ]
  },
  {
   "cell_type": "code",
   "execution_count": 13,
   "metadata": {},
   "outputs": [
    {
     "data": {
      "text/plain": [
       "19950631168807583848837421626835850838234968318861924548520089498529438830221946631919961684036194597899331129423209124271556491349413781117593785932096323957855730046793794526765246551266059895520550086918193311542508608460618104685509074866089624888090489894838009253941633257850621568309473902556912388065225096643874441046759871626985453222868538161694315775629640762836880760732228535091641476183956381458969463899410840960536267821064621427333394036525565649530603142680234969400335934316651459297773279665775606172582031407994198179607378245683762280037302885487251900834464581454650557929601414833921615734588139257095379769119277800826957735674444123062018757836325502728323789270710373802866393031428133241401624195671690574061419654342324638801248856147305207431992259611796250130992860241708340807605932320161268492288496255841312844061536738951487114256315111089745514203313820202931640957596464756010405845841566072044962867016515061920631004186422275908670900574606417856951911456055068251250406007519842261898059237118054444788072906395242548339221982707404473162376760846613033778706039803413197133493654622700563169937455508241780972810983291314403571877524768509857276937926433221599399876886660808368837838027643282775172273657572744784112294389733810861607423253291974813120197604178281965697475898164531258434135959862784130128185406283476649088690521047580882615823961985770122407044330583075869039319604603404973156583208672105913300903752823415539745394397715257455290510212310947321610753474825740775273986348298498340756937955646638621874569499279016572103701364433135817214311791398222983845847334440270964182851005072927748364550578634501100852987812389473928699540834346158807043959118985815145779177143619698728131459483783202081474982171858011389071228250905826817436220577475921417653715687725614904582904992461028630081535583308130101987675856234343538955409175623400844887526162643568648833519463720377293240094456246923254350400678027273837755376406726898636241037491410966718557050759098100246789880178271925953381282421954028302759408448955014676668389697996886241636313376393903373455801407636741877711055384225739499110186468219696581651485130494222369947714763069155468217682876200362777257723781365331611196811280792669481887201298643660768551639860534602297871557517947385246369446923087894265948217008051120322365496288169035739121368338393591756418733850510970271613915439590991598154654417336311656936031122249937969999226781732358023111862644575299135758175008199839236284615249881088960232244362173771618086357015468484058622329792853875623486556440536962622018963571028812361567512543338303270029097668650568557157505516727518899194129711337690149916181315171544007728650573189557450920330185304847113818315407324053319038462084036421763703911550639789000742853672196280903477974533320468368795868580237952218629120080742819551317948157624448298518461509704888027274721574688131594750409732115080498190455803416826949787141316063210686391511681774304792596709376"
      ]
     },
     "execution_count": 13,
     "metadata": {},
     "output_type": "execute_result"
    }
   ],
   "source": [
    "2**10000"
   ]
  },
  {
   "cell_type": "code",
   "execution_count": 18,
   "metadata": {},
   "outputs": [
    {
     "data": {
      "text/plain": [
       "13561"
      ]
     },
     "execution_count": 18,
     "metadata": {},
     "output_type": "execute_result"
    }
   ],
   "source": [
    "sum(list(map(int, list(str(2**10000)))))"
   ]
  },
  {
   "cell_type": "markdown",
   "metadata": {},
   "source": [
    "# BT3"
   ]
  },
  {
   "cell_type": "markdown",
   "metadata": {},
   "source": [
    "- Làm rõ lời bài hát bằng cách loại bỏ toàn bộ các số và kí tự punctuation\n",
    "- Punctuation là gì?"
   ]
  },
  {
   "cell_type": "code",
   "execution_count": 448,
   "metadata": {},
   "outputs": [],
   "source": [
    "data ='''Ngư60ời 'theo hư@ơng' hoa 100mây mù [giăng lối]\n",
    "Làn 25 sương khó30i phôi phai 90 đưa bư$ớc ai xa rồi 35\n",
    "100Đơn c#ôi m99ình ta {vấn vương} hồi ức tro^ng ... men say (chiều mưa) buồ80n \n",
    "Ng~ăn \"giọt lệ\" ngừng k2hiến khoé mi sầu bi.1'''"
   ]
  },
  {
   "cell_type": "code",
   "execution_count": 445,
   "metadata": {},
   "outputs": [
    {
     "data": {
      "text/plain": [
       "'!\"#$%&\\'()*+,-./:;<=>?@[\\\\]^_`{|}~'"
      ]
     },
     "execution_count": 445,
     "metadata": {},
     "output_type": "execute_result"
    }
   ],
   "source": [
    "import string\n",
    "string.punctuation"
   ]
  },
  {
   "cell_type": "code",
   "execution_count": 446,
   "metadata": {},
   "outputs": [],
   "source": [
    "rm_ch = string.punctuation + ''.join(map(str, list(range(0, 10))))\n",
    "data = data.translate({ord(i): None for i in rm_ch})"
   ]
  },
  {
   "cell_type": "code",
   "execution_count": 452,
   "metadata": {},
   "outputs": [],
   "source": [
    "import re\n",
    "pattern = f'[^{string.punctuation}\\d]'\n",
    "data = ''.join(re.findall(pattern, data))"
   ]
  },
  {
   "cell_type": "code",
   "execution_count": 453,
   "metadata": {},
   "outputs": [
    {
     "name": "stdout",
     "output_type": "stream",
     "text": [
      "Người theo hương hoa mây mù giăng lối\n",
      "Làn sương khói phôi phai đưa bước ai xa rồi\n",
      "Đơn côi mình ta vấn vương hồi ức trong men say chiều mưa buồn\n",
      "Ngăn giọt lệ ngừng khiến khoé mi sầu bi\n"
     ]
    }
   ],
   "source": [
    "data = '\\n'.join([' '.join(st.split()) for st in data.split('\\n')])\n",
    "print(data)"
   ]
  },
  {
   "cell_type": "markdown",
   "metadata": {},
   "source": [
    "# BT4"
   ]
  },
  {
   "cell_type": "markdown",
   "metadata": {},
   "source": [
    "- Giải bài toán lớp 3 sau: https://vnexpress.net/bai-toan-lop-3-co-so-luong-dap-an-khong-lo-3220439.html\n",
    "\n",
    "- Các biến liệt kê bên dưới nằm trong đoạn từ 1 đến 9, hỏi có bn bộ giá trị thỏa mãn điều kiện sau:\n",
    "        a + 13 * b / c + d + 12 * e - f - 11 + g * h / i - 10 = 66"
   ]
  },
  {
   "cell_type": "code",
   "execution_count": 183,
   "metadata": {},
   "outputs": [
    {
     "name": "stdout",
     "output_type": "stream",
     "text": [
      "Count = 442232\n"
     ]
    }
   ],
   "source": [
    "# C1\n",
    "count = 0\n",
    "\n",
    "for a in range(1, 10):\n",
    "    for b in range(1, 10):\n",
    "        for c in range(1, 10):\n",
    "            for d in range(1, 10):\n",
    "                for e in range(1, 10):\n",
    "                    for f in range(1, 10):\n",
    "                        for g in range(1, 10):\n",
    "                            for h in range(1, 10):\n",
    "                                for i in range(1, 10):\n",
    "                                    if a + d - f - 87 + 13 * b / c + 12 * e + g * h / i < 1e-5:\n",
    "                                        count += 1\n",
    "print('Count =', count)"
   ]
  },
  {
   "cell_type": "markdown",
   "metadata": {},
   "source": [
    "# BT5"
   ]
  },
  {
   "cell_type": "markdown",
   "metadata": {},
   "source": [
    "- Quy đổi các giá trị trong bảng chữ cái tiếng Anh: a = 1, b = 2, c = 3, .... rồi tính tổng giá trị của các từ khi quy đổi ra số \n",
    "- Hỏi các từ sau có giá trị là bao nhiêu: python, patience, documents, students, homework, practice, success, english, university, congratulation"
   ]
  },
  {
   "cell_type": "code",
   "execution_count": 456,
   "metadata": {},
   "outputs": [],
   "source": [
    "d = {chr(i) : i-96 for i in range(ord('a'), ord('z')+1)}\n",
    "words = ['python', 'patience', 'documents', 'students', 'homework', 'practice', 'success', 'english', 'university', 'congratulation']"
   ]
  },
  {
   "cell_type": "code",
   "execution_count": 458,
   "metadata": {},
   "outputs": [
    {
     "name": "stdout",
     "output_type": "stream",
     "text": [
      "python = 98\n",
      "patience = 73\n",
      "documents = 114\n",
      "students = 122\n",
      "homework = 108\n",
      "practice = 75\n",
      "success = 89\n",
      "english = 74\n",
      "university = 162\n",
      "congratulation = 170\n"
     ]
    }
   ],
   "source": [
    "for st in words:\n",
    "    print(f'{st} = {sum(map(d.get, list(st)))}')"
   ]
  },
  {
   "cell_type": "markdown",
   "metadata": {},
   "source": [
    "# BT6"
   ]
  },
  {
   "cell_type": "markdown",
   "metadata": {},
   "source": [
    "Viết code sinh các số fibonanci dưới 1000, lưu giữ kq vào 1 list."
   ]
  },
  {
   "cell_type": "code",
   "execution_count": 300,
   "metadata": {},
   "outputs": [],
   "source": [
    "a = b = 1\n",
    "fibs = []\n",
    "while a < 1000:\n",
    "    fibs.append(a)\n",
    "    a, b = b, a+b"
   ]
  },
  {
   "cell_type": "markdown",
   "metadata": {},
   "source": [
    "# BT7"
   ]
  },
  {
   "cell_type": "markdown",
   "metadata": {},
   "source": [
    "Viết code sinh các số nguyên tố dưới 10000, lưu giữ kq vào 1 list."
   ]
  },
  {
   "cell_type": "code",
   "execution_count": 13,
   "metadata": {},
   "outputs": [],
   "source": [
    "limit = 1000"
   ]
  },
  {
   "cell_type": "code",
   "execution_count": 16,
   "metadata": {},
   "outputs": [
    {
     "output_type": "stream",
     "name": "stdout",
     "text": [
      "[2, 3, 5, 7, 11, 13, 17, 19, 23, 29, 31, 37, 41, 43, 47, 53, 59, 61, 67, 71, 73, 79, 83, 89, 97, 101, 103, 107, 109, 113, 127, 131, 137, 139, 149, 151, 157, 163, 167, 173, 179, 181, 191, 193, 197, 199, 211, 223, 227, 229, 233, 239, 241, 251, 257, 263, 269, 271, 277, 281, 283, 293, 307, 311, 313, 317, 331, 337, 347, 349, 353, 359, 367, 373, 379, 383, 389, 397, 401, 409, 419, 421, 431, 433, 439, 443, 449, 457, 461, 463, 467, 479, 487, 491, 499, 503, 509, 521, 523, 541, 547, 557, 563, 569, 571, 577, 587, 593, 599, 601, 607, 613, 617, 619, 631, 641, 643, 647, 653, 659, 661, 673, 677, 683, 691, 701, 709, 719, 727, 733, 739, 743, 751, 757, 761, 769, 773, 787, 797, 809, 811, 821, 823, 827, 829, 839, 853, 857, 859, 863, 877, 881, 883, 887, 907, 911, 919, 929, 937, 941, 947, 953, 967, 971, 977, 983, 991, 997]\n"
     ]
    }
   ],
   "source": [
    "def isPrime(num):\n",
    "    for i in range(2, int(num**0.5)+1):\n",
    "        if num % i == 0:\n",
    "            return False\n",
    "    return True\n",
    "\n",
    "\n",
    "primes = []\n",
    "for i in range(2, limit):\n",
    "    if isPrime(i):\n",
    "        primes.append(i)\n",
    "print(primes)"
   ]
  },
  {
   "cell_type": "code",
   "execution_count": 17,
   "metadata": {},
   "outputs": [
    {
     "output_type": "stream",
     "name": "stdout",
     "text": [
      "[2, 3, 5, 7, 11, 13, 17, 19, 23, 29, 31, 37, 41, 43, 47, 53, 59, 61, 67, 71, 73, 79, 83, 89, 97, 101, 103, 107, 109, 113, 127, 131, 137, 139, 149, 151, 157, 163, 167, 173, 179, 181, 191, 193, 197, 199, 211, 223, 227, 229, 233, 239, 241, 251, 257, 263, 269, 271, 277, 281, 283, 293, 307, 311, 313, 317, 331, 337, 347, 349, 353, 359, 367, 373, 379, 383, 389, 397, 401, 409, 419, 421, 431, 433, 439, 443, 449, 457, 461, 463, 467, 479, 487, 491, 499, 503, 509, 521, 523, 541, 547, 557, 563, 569, 571, 577, 587, 593, 599, 601, 607, 613, 617, 619, 631, 641, 643, 647, 653, 659, 661, 673, 677, 683, 691, 701, 709, 719, 727, 733, 739, 743, 751, 757, 761, 769, 773, 787, 797, 809, 811, 821, 823, 827, 829, 839, 853, 857, 859, 863, 877, 881, 883, 887, 907, 911, 919, 929, 937, 941, 947, 953, 967, 971, 977, 983, 991, 997]\n"
     ]
    }
   ],
   "source": [
    "# Sàng nguyên tố Eratosthenes\n",
    "# https://en.wikipedia.org/wiki/Sieve_of_Eratosthenes\n",
    "primes = [True] * limit\n",
    "primes[0] = primes[1] = False\n",
    "\n",
    "for i in range(2, int(limit**0.5)+1):\n",
    "    if primes[i]:\n",
    "        # Xuất phát từ i*i vì các hợp số trước đó đều đã bị đánh dấu\n",
    "        for j in range(i*i, limit, i):\n",
    "            primes[j] = False\n",
    "\n",
    "primes = [i for i in range(limit) if primes[i]]\n",
    "print(primes)"
   ]
  },
  {
   "cell_type": "markdown",
   "metadata": {},
   "source": [
    "# BT8"
   ]
  },
  {
   "cell_type": "markdown",
   "metadata": {},
   "source": [
    "- Trả về dict chứa 10 phần tử xuất hiện nhiều nhất cùng số lần xuất hiện"
   ]
  },
  {
   "cell_type": "code",
   "execution_count": 3,
   "metadata": {},
   "outputs": [],
   "source": [
    "st = '''Python is an easy to learn, powerful programming language. It has efficient high-level data structures and a simple but effective approach to object-oriented programming. Python’s elegant syntax and dynamic typing, together with its interpreted nature, make it an ideal language for scripting and rapid application development in many areas on most platforms.\n",
    "\n",
    "The Python interpreter and the extensive standard library are freely available in source or binary form for all major platforms from the Python Web site, https://www.python.org/, and may be freely distributed. The same site also contains distributions of and pointers to many free third party Python modules, programs and tools, and additional documentation.\n",
    "\n",
    "The Python interpreter is easily extended with new functions and data types implemented in C or C++ (or other languages callable from C). Python is also suitable as an extension language for customizable applications.\n",
    "\n",
    "This tutorial introduces the reader informally to the basic concepts and features of the Python language and system. It helps to have a Python interpreter handy for hands-on experience, but all examples are self-contained, so the tutorial can be read off-line as well.\n",
    "\n",
    "For a description of standard objects and modules, see The Python Standard Library. The Python Language Reference gives a more formal definition of the language. To write extensions in C or C++, read Extending and Embedding the Python Interpreter and Python/C API Reference Manual. There are also several books covering Python in depth.\n",
    "\n",
    "This tutorial does not attempt to be comprehensive and cover every single feature, or even every commonly used feature. Instead, it introduces many of Python’s most noteworthy features, and will give you a good idea of the language’s flavor and style. After reading it, you will be able to read and write Python modules and programs, and you will be ready to learn more about the various Python library modules described in The Python Standard Library.'''"
   ]
  },
  {
   "cell_type": "code",
   "execution_count": 4,
   "metadata": {},
   "outputs": [],
   "source": [
    "l = st.lower().replace('(', '').replace(')', '').replace('.', '').replace(',','').split()\n",
    "s = set(l)\n",
    "d = {i : l.count(i) for i in s}\n",
    "\n",
    "result = dict(sorted(d.items(), key=lambda x: x[1], reverse=True)[:10])"
   ]
  },
  {
   "cell_type": "code",
   "execution_count": 5,
   "metadata": {},
   "outputs": [
    {
     "output_type": "execute_result",
     "data": {
      "text/plain": [
       "{'and': 20,\n",
       " 'the': 16,\n",
       " 'python': 15,\n",
       " 'to': 9,\n",
       " 'language': 6,\n",
       " 'in': 6,\n",
       " 'of': 6,\n",
       " 'or': 5,\n",
       " 'for': 5,\n",
       " 'be': 5}"
      ]
     },
     "metadata": {},
     "execution_count": 5
    }
   ],
   "source": [
    "result"
   ]
  },
  {
   "cell_type": "markdown",
   "metadata": {},
   "source": [
    "# BT9"
   ]
  },
  {
   "cell_type": "markdown",
   "metadata": {},
   "source": [
    "L1 = [1, 2, 3, 4, 5, 6]\n",
    "\n",
    "L2 = [3, 4, 5, 6, 7, 8, 9, 10]\n",
    "\n",
    "- Lấy các phần tử:\n",
    "    - Có trong cả A, B\n",
    "    - Chỉ có trong A\n",
    "    - Chỉ có trong B\n",
    "    - Không có trong cả A và B"
   ]
  },
  {
   "cell_type": "code",
   "execution_count": 6,
   "metadata": {},
   "outputs": [],
   "source": [
    "L1 = set([1, 2, 3, 4, 5, 6])\n",
    "L2 = set([3, 4, 5, 6, 7, 8, 9, 10])"
   ]
  },
  {
   "cell_type": "code",
   "execution_count": 8,
   "metadata": {},
   "outputs": [
    {
     "output_type": "execute_result",
     "data": {
      "text/plain": [
       "{3, 4, 5, 6}"
      ]
     },
     "metadata": {},
     "execution_count": 8
    }
   ],
   "source": [
    "set(L1) & set(L2)"
   ]
  },
  {
   "cell_type": "code",
   "execution_count": 422,
   "metadata": {},
   "outputs": [
    {
     "data": {
      "text/plain": [
       "{1, 2}"
      ]
     },
     "execution_count": 422,
     "metadata": {},
     "output_type": "execute_result"
    }
   ],
   "source": [
    "L1 - L2"
   ]
  },
  {
   "cell_type": "code",
   "execution_count": 423,
   "metadata": {},
   "outputs": [
    {
     "data": {
      "text/plain": [
       "{7, 8, 9, 10}"
      ]
     },
     "execution_count": 423,
     "metadata": {},
     "output_type": "execute_result"
    }
   ],
   "source": [
    "L2 - L1"
   ]
  },
  {
   "cell_type": "code",
   "execution_count": 424,
   "metadata": {},
   "outputs": [
    {
     "data": {
      "text/plain": [
       "{1, 2, 7, 8, 9, 10}"
      ]
     },
     "execution_count": 424,
     "metadata": {},
     "output_type": "execute_result"
    }
   ],
   "source": [
    "L1.symmetric_difference(L2)"
   ]
  },
  {
   "cell_type": "markdown",
   "metadata": {},
   "source": [
    "# BT10"
   ]
  },
  {
   "cell_type": "markdown",
   "metadata": {},
   "source": [
    "- Trả về 1 list n tuple: \n",
    "        years = [(1900, \"Canh Tí\"), ... (2019, \"Kỷ Hợi\")]\n",
    "- Với năm chạy từ 1900 đến 2019, output yêu cầu trả về đúng như format bên trên, bao gồm năm và can chi tương ứng\n",
    "- Chú ý viết hoa các chữ cái đầu\n"
   ]
  },
  {
   "cell_type": "code",
   "execution_count": 441,
   "metadata": {},
   "outputs": [],
   "source": [
    "Can = ['Canh', 'Tân', 'Nhâm', 'Quý', 'Giáp', 'Ất', 'Bính', 'Đinh', 'Mậu', 'Kỷ']\n",
    "Chi = ['Tí', 'Sửu', 'Dần', 'Mão', 'Thìn', 'Tị', 'Ngọ', 'Mùi', 'Thân', 'Dậu', 'Tuất', 'Hợi']"
   ]
  },
  {
   "cell_type": "code",
   "execution_count": 460,
   "metadata": {},
   "outputs": [],
   "source": [
    "i = 0\n",
    "years = []\n",
    "for year in range(1900, 2020):\n",
    "    years.append((year,Can[i%10]+' '+Chi[i%12]))\n",
    "    i += 1"
   ]
  },
  {
   "cell_type": "code",
   "execution_count": 461,
   "metadata": {},
   "outputs": [
    {
     "data": {
      "text/plain": [
       "[(1900, 'Canh Tí'),\n",
       " (1901, 'Tân Sửu'),\n",
       " (1902, 'Nhâm Dần'),\n",
       " (1903, 'Quý Mão'),\n",
       " (1904, 'Giáp Thìn'),\n",
       " (1905, 'Ất Tị'),\n",
       " (1906, 'Bính Ngọ'),\n",
       " (1907, 'Đinh Mùi'),\n",
       " (1908, 'Mậu Thân'),\n",
       " (1909, 'Kỷ Dậu'),\n",
       " (1910, 'Canh Tuất'),\n",
       " (1911, 'Tân Hợi'),\n",
       " (1912, 'Nhâm Tí'),\n",
       " (1913, 'Quý Sửu'),\n",
       " (1914, 'Giáp Dần'),\n",
       " (1915, 'Ất Mão'),\n",
       " (1916, 'Bính Thìn'),\n",
       " (1917, 'Đinh Tị'),\n",
       " (1918, 'Mậu Ngọ'),\n",
       " (1919, 'Kỷ Mùi'),\n",
       " (1920, 'Canh Thân'),\n",
       " (1921, 'Tân Dậu'),\n",
       " (1922, 'Nhâm Tuất'),\n",
       " (1923, 'Quý Hợi'),\n",
       " (1924, 'Giáp Tí'),\n",
       " (1925, 'Ất Sửu'),\n",
       " (1926, 'Bính Dần'),\n",
       " (1927, 'Đinh Mão'),\n",
       " (1928, 'Mậu Thìn'),\n",
       " (1929, 'Kỷ Tị'),\n",
       " (1930, 'Canh Ngọ'),\n",
       " (1931, 'Tân Mùi'),\n",
       " (1932, 'Nhâm Thân'),\n",
       " (1933, 'Quý Dậu'),\n",
       " (1934, 'Giáp Tuất'),\n",
       " (1935, 'Ất Hợi'),\n",
       " (1936, 'Bính Tí'),\n",
       " (1937, 'Đinh Sửu'),\n",
       " (1938, 'Mậu Dần'),\n",
       " (1939, 'Kỷ Mão'),\n",
       " (1940, 'Canh Thìn'),\n",
       " (1941, 'Tân Tị'),\n",
       " (1942, 'Nhâm Ngọ'),\n",
       " (1943, 'Quý Mùi'),\n",
       " (1944, 'Giáp Thân'),\n",
       " (1945, 'Ất Dậu'),\n",
       " (1946, 'Bính Tuất'),\n",
       " (1947, 'Đinh Hợi'),\n",
       " (1948, 'Mậu Tí'),\n",
       " (1949, 'Kỷ Sửu'),\n",
       " (1950, 'Canh Dần'),\n",
       " (1951, 'Tân Mão'),\n",
       " (1952, 'Nhâm Thìn'),\n",
       " (1953, 'Quý Tị'),\n",
       " (1954, 'Giáp Ngọ'),\n",
       " (1955, 'Ất Mùi'),\n",
       " (1956, 'Bính Thân'),\n",
       " (1957, 'Đinh Dậu'),\n",
       " (1958, 'Mậu Tuất'),\n",
       " (1959, 'Kỷ Hợi'),\n",
       " (1960, 'Canh Tí'),\n",
       " (1961, 'Tân Sửu'),\n",
       " (1962, 'Nhâm Dần'),\n",
       " (1963, 'Quý Mão'),\n",
       " (1964, 'Giáp Thìn'),\n",
       " (1965, 'Ất Tị'),\n",
       " (1966, 'Bính Ngọ'),\n",
       " (1967, 'Đinh Mùi'),\n",
       " (1968, 'Mậu Thân'),\n",
       " (1969, 'Kỷ Dậu'),\n",
       " (1970, 'Canh Tuất'),\n",
       " (1971, 'Tân Hợi'),\n",
       " (1972, 'Nhâm Tí'),\n",
       " (1973, 'Quý Sửu'),\n",
       " (1974, 'Giáp Dần'),\n",
       " (1975, 'Ất Mão'),\n",
       " (1976, 'Bính Thìn'),\n",
       " (1977, 'Đinh Tị'),\n",
       " (1978, 'Mậu Ngọ'),\n",
       " (1979, 'Kỷ Mùi'),\n",
       " (1980, 'Canh Thân'),\n",
       " (1981, 'Tân Dậu'),\n",
       " (1982, 'Nhâm Tuất'),\n",
       " (1983, 'Quý Hợi'),\n",
       " (1984, 'Giáp Tí'),\n",
       " (1985, 'Ất Sửu'),\n",
       " (1986, 'Bính Dần'),\n",
       " (1987, 'Đinh Mão'),\n",
       " (1988, 'Mậu Thìn'),\n",
       " (1989, 'Kỷ Tị'),\n",
       " (1990, 'Canh Ngọ'),\n",
       " (1991, 'Tân Mùi'),\n",
       " (1992, 'Nhâm Thân'),\n",
       " (1993, 'Quý Dậu'),\n",
       " (1994, 'Giáp Tuất'),\n",
       " (1995, 'Ất Hợi'),\n",
       " (1996, 'Bính Tí'),\n",
       " (1997, 'Đinh Sửu'),\n",
       " (1998, 'Mậu Dần'),\n",
       " (1999, 'Kỷ Mão'),\n",
       " (2000, 'Canh Thìn'),\n",
       " (2001, 'Tân Tị'),\n",
       " (2002, 'Nhâm Ngọ'),\n",
       " (2003, 'Quý Mùi'),\n",
       " (2004, 'Giáp Thân'),\n",
       " (2005, 'Ất Dậu'),\n",
       " (2006, 'Bính Tuất'),\n",
       " (2007, 'Đinh Hợi'),\n",
       " (2008, 'Mậu Tí'),\n",
       " (2009, 'Kỷ Sửu'),\n",
       " (2010, 'Canh Dần'),\n",
       " (2011, 'Tân Mão'),\n",
       " (2012, 'Nhâm Thìn'),\n",
       " (2013, 'Quý Tị'),\n",
       " (2014, 'Giáp Ngọ'),\n",
       " (2015, 'Ất Mùi'),\n",
       " (2016, 'Bính Thân'),\n",
       " (2017, 'Đinh Dậu'),\n",
       " (2018, 'Mậu Tuất'),\n",
       " (2019, 'Kỷ Hợi')]"
      ]
     },
     "execution_count": 461,
     "metadata": {},
     "output_type": "execute_result"
    }
   ],
   "source": [
    "years"
   ]
  },
  {
   "cell_type": "code",
   "execution_count": null,
   "metadata": {},
   "outputs": [],
   "source": []
  }
 ],
 "metadata": {
  "kernelspec": {
   "display_name": "Python 3",
   "language": "python",
   "name": "python3"
  },
  "language_info": {
   "codemirror_mode": {
    "name": "ipython",
    "version": 3
   },
   "file_extension": ".py",
   "mimetype": "text/x-python",
   "name": "python",
   "nbconvert_exporter": "python",
   "pygments_lexer": "ipython3",
   "version": "3.8.3-final"
  }
 },
 "nbformat": 4,
 "nbformat_minor": 4
}