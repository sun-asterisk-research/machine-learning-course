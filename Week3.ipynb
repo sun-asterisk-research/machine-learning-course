{
  "nbformat": 4,
  "nbformat_minor": 0,
  "metadata": {
    "colab": {
      "name": "Week3.ipynb",
      "provenance": [],
      "authorship_tag": "ABX9TyPTni/71uG0Wwu3cKwLTy2H",
      "include_colab_link": true
    },
    "kernelspec": {
      "name": "python3",
      "display_name": "Python 3"
    }
  },
  "cells": [
    {
      "cell_type": "markdown",
      "metadata": {
        "id": "view-in-github",
        "colab_type": "text"
      },
      "source": [
        "<a href=\"https://colab.research.google.com/github/vhnowf/machine-learning-course/blob/master/Week3.ipynb\" target=\"_parent\"><img src=\"https://colab.research.google.com/assets/colab-badge.svg\" alt=\"Open In Colab\"/></a>"
      ]
    },
    {
      "cell_type": "code",
      "metadata": {
        "id": "Q9qWPKiOn0CG"
      },
      "source": [
        "import numpy as np"
      ],
      "execution_count": 1,
      "outputs": []
    },
    {
      "cell_type": "code",
      "metadata": {
        "id": "eCCevu2DoAr-"
      },
      "source": [
        "from sklearn.datasets import load_iris\n",
        "data = load_iris()\n",
        "X, Y = data.data, data.target \n"
      ],
      "execution_count": 2,
      "outputs": []
    },
    {
      "cell_type": "code",
      "metadata": {
        "id": "uzRPRu9wokgd"
      },
      "source": [
        "# only classify class 1 vs  class 2\n",
        "idx = Y > 0\n",
        "X = X[idx, :]\n",
        "Y = Y[idx]"
      ],
      "execution_count": 3,
      "outputs": []
    },
    {
      "cell_type": "code",
      "metadata": {
        "id": "Or2ySWZX_And"
      },
      "source": [
        "# Normalization is done per feature, not all at once. Also, remember that Y is [1,2] instead of [0,1]\n",
        "def z_score(x): \n",
        "  mean = np.mean(x)\n",
        "  deviation =  np.std(x)\n",
        "  z = (x - mean)/deviation\n",
        "  return z\n",
        "for i in range(0, 4):\n",
        "  X[:,i] = z_score(X[:,i])\n",
        "Y = Y - 1\n",
        "X = np.hstack([np.ones((X.shape[0],1)),X])\n"
      ],
      "execution_count": 4,
      "outputs": []
    },
    {
      "cell_type": "code",
      "metadata": {
        "id": "sSIjK8Z_PvEh"
      },
      "source": [
        "weight = np.zeros(X.shape[1])\n",
        "\n"
      ],
      "execution_count": 5,
      "outputs": []
    },
    {
      "cell_type": "code",
      "metadata": {
        "id": "RtdWNfXr1ySb"
      },
      "source": [
        "def accuracy(X, Y, weight):\n",
        "    '''\n",
        "    Evaluate the model, represented by `weight`, with data (X, Y).\n",
        "    \n",
        "    Input:\n",
        "        X:      data features\n",
        "        Y:      data labels\n",
        "        weight: model weights\n",
        "    \n",
        "        Model accuracy on input data.\n",
        "    '''\n",
        "    \n",
        "    # implement your code here\n",
        "    result = (X @ weight > 0) == Y\n",
        "    acc = np.sum(result)/result.size\n",
        "    return acc \n",
        " "
      ],
      "execution_count": 6,
      "outputs": []
    },
    {
      "cell_type": "code",
      "metadata": {
        "id": "SP5e1V5u3LJU"
      },
      "source": [
        "# learning rate\n",
        "alpha = 1e-2\n",
        "# epochs\n",
        "epoch = 10000"
      ],
      "execution_count": 7,
      "outputs": []
    },
    {
      "cell_type": "code",
      "metadata": {
        "id": "dTeTlxMSYQXI"
      },
      "source": [
        "def sigmoid(x, weight):\n",
        "  z = x @ weight\n",
        "  g = 1 / (1 + np.exp(-z))\n",
        "  return g\n",
        "def lost(x, y, weight):\n",
        "  h = sigmoid(x, weight)\n",
        "  J = -np.sum(y*np.log(h) + (1-y)*np.log(1-h))/(y.size)\n",
        "  return J\n"
      ],
      "execution_count": 8,
      "outputs": []
    },
    {
      "cell_type": "code",
      "metadata": {
        "colab": {
          "base_uri": "https://localhost:8080/"
        },
        "id": "EIVI8AMSdsTg",
        "outputId": "c7d3598a-a2d2-4cad-c69f-7b58e86f98c4"
      },
      "source": [
        "for i in range(epoch):\n",
        "    y = sigmoid(X, weight) \n",
        "    loss = lost(X,Y, weight)\n",
        "    w = X.T @ (y - Y)/ y.size\n",
        "    weight -= alpha*w\n",
        "    acc = accuracy(X,Y, weight)\n",
        "    if i % 100 == 0: print(f\"Epoch {i}: Loss: {loss:8.05f} Accuracy:{acc*100:.03f}%\")"
      ],
      "execution_count": 9,
      "outputs": [
        {
          "output_type": "stream",
          "text": [
            "Epoch 0: Loss:  0.69315 Accuracy:90.000%\n",
            "Epoch 1000: Loss:  0.20629 Accuracy:94.000%\n",
            "Epoch 2000: Loss:  0.15382 Accuracy:95.000%\n",
            "Epoch 3000: Loss:  0.13005 Accuracy:95.000%\n",
            "Epoch 4000: Loss:  0.11631 Accuracy:96.000%\n",
            "Epoch 5000: Loss:  0.10727 Accuracy:96.000%\n",
            "Epoch 6000: Loss:  0.10084 Accuracy:96.000%\n",
            "Epoch 7000: Loss:  0.09600 Accuracy:96.000%\n",
            "Epoch 8000: Loss:  0.09221 Accuracy:96.000%\n",
            "Epoch 9000: Loss:  0.08915 Accuracy:96.000%\n"
          ],
          "name": "stdout"
        }
      ]
    },
    {
      "cell_type": "code",
      "metadata": {
        "id": "9GMdT8Qy3OQV"
      },
      "source": [
        "\n",
        "# just to double check\n",
        "assert np.allclose(weight, np.array([0.12047504, -0.44156746, -0.89309501, 2.965364, 3.3427994]))"
      ],
      "execution_count": 10,
      "outputs": []
    },
    {
      "cell_type": "code",
      "metadata": {
        "id": "BcK3PCKEMHD1",
        "colab": {
          "base_uri": "https://localhost:8080/"
        },
        "outputId": "4c444091-c2e4-4a80-a1b0-887bc02d7c63"
      },
      "source": [
        "# model accuracy\n",
        "accuracy(X, Y, weight)\n"
      ],
      "execution_count": 11,
      "outputs": [
        {
          "output_type": "execute_result",
          "data": {
            "text/plain": [
              "0.96"
            ]
          },
          "metadata": {
            "tags": []
          },
          "execution_count": 11
        }
      ]
    }
  ]
}