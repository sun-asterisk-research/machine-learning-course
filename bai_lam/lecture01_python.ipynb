{
 "cells": [
  {
   "cell_type": "markdown",
   "metadata": {},
   "source": [
    "## bai tap 1: "
   ]
  },
  {
   "cell_type": "code",
   "execution_count": 30,
   "metadata": {},
   "outputs": [
    {
     "data": {
      "text/plain": [
       "' CROSSMYHEART'"
      ]
     },
     "execution_count": 30,
     "metadata": {},
     "output_type": "execute_result"
    }
   ],
   "source": [
    "data = '''\n",
    "Come to the\n",
    "River\n",
    "Of my\n",
    "Soulful\n",
    "Sentiments\n",
    "Meandering silently\n",
    "Yearning for release.\n",
    "Hasten\n",
    "Earnestly\n",
    "As my love flows by\n",
    "Rushing through the flood-gates\n",
    "To your heart.\n",
    "'''\n",
    "count = 0\n",
    "flag = 0\n",
    "str_ = \" \"\n",
    "for i in data:\n",
    "    if(i == \"\\n\"):\n",
    "        count+=1\n",
    "for i in range(len(data)):\n",
    "    if (data[i] == \"\\n\" and flag < count-1):\n",
    "        str_ += data[i+1]\n",
    "        flag +=1\n",
    "str_"
   ]
  },
  {
   "cell_type": "markdown",
   "metadata": {},
   "source": [
    "## bai tap 2"
   ]
  },
  {
   "cell_type": "markdown",
   "metadata": {},
   "source": [
    "2 ** 10000 = x\n",
    "log(2 ** 10000) = log(x)\n",
    "10000 x log(2) = log(x)\n",
    "x = 10^(10000xlog(2))\n"
   ]
  },
  {
   "cell_type": "code",
   "execution_count": 57,
   "metadata": {},
   "outputs": [
    {
     "data": {
      "text/plain": [
       "13561"
      ]
     },
     "execution_count": 57,
     "metadata": {},
     "output_type": "execute_result"
    }
   ],
   "source": [
    "n = 2 **10000\n",
    "n_str = str(n)\n",
    "sum_ = 0\n",
    "for i in n_str:\n",
    "    sum_ += int(i)\n",
    "sum_"
   ]
  },
  {
   "cell_type": "markdown",
   "metadata": {},
   "source": [
    "## bai tap 3"
   ]
  },
  {
   "cell_type": "code",
   "execution_count": 41,
   "metadata": {},
   "outputs": [
    {
     "data": {
      "text/plain": [
       "' Người theo hương hoa mây mù giăng lối Làn  sương khói phôi phai  đưa bước ai xa rồi Đơn côi mình ta vấn vương hồi ức trong  men say chiều mưa buồn Ngăn giọt lệ ngừng khiến khoé mi sầu bi '"
      ]
     },
     "execution_count": 41,
     "metadata": {},
     "output_type": "execute_result"
    }
   ],
   "source": [
    "import string\n",
    "\n",
    "str_ = '''Ngư60ời 'theo hư@ơng' hoa 100mây mù [giăng lối]\n",
    " Làn 25 sương khó30i phôi phai 90 đưa bư$ớc ai xa rồi 35\n",
    "100Đơn c#ôi m99ình ta {vấn vương} hồi ức tro^ng ... men say (chiều mưa) buồ80n \n",
    "Ng~ăn \"giọt lệ\" ngừng k2hiến khoé mi sầu bi.1 '''\n",
    "result = \" \"\n",
    "for i in str_:\n",
    "    # loai bo so va ki tru punctuation va disgit\n",
    "    if (i not in string.punctuation and i != \"\\n\" and  not i.isdigit()):\n",
    "        result += i\n",
    "result"
   ]
  },
  {
   "cell_type": "markdown",
   "metadata": {},
   "source": [
    "## bai tap 4"
   ]
  },
  {
   "cell_type": "code",
   "execution_count": 43,
   "metadata": {},
   "outputs": [
    {
     "data": {
      "text/plain": [
       "442232"
      ]
     },
     "execution_count": 43,
     "metadata": {},
     "output_type": "execute_result"
    }
   ],
   "source": [
    "count = 0\n",
    "for a in range(1,10):\n",
    "    for b in range(1,10):\n",
    "        for c in range(1,10):\n",
    "            for d in range(1,10):\n",
    "                for e in range(1,10):\n",
    "                    for f in range(1,10):\n",
    "                        for g in range(1,10):\n",
    "                            for h in range(1,10):\n",
    "                                for i in range(1,10):\n",
    "                                    if(a + 13 * b / c + d + 12 * e - f - 11 + g * h / i - 10 == 66):\n",
    "                                        count += 1\n",
    "count"
   ]
  },
  {
   "cell_type": "markdown",
   "metadata": {},
   "source": [
    "## bai tap 5"
   ]
  },
  {
   "cell_type": "code",
   "execution_count": 50,
   "metadata": {},
   "outputs": [
    {
     "data": {
      "text/plain": [
       "[6, 98, 73, 114, 122, 108, 75, 89, 74, 162, 170]"
      ]
     },
     "execution_count": 50,
     "metadata": {},
     "output_type": "execute_result"
    }
   ],
   "source": [
    "## a = 1, b = 2,... chuyen cac ki tu ve so trong ascii a- 97, z -122\n",
    "str = ['abc','python', 'patience', 'documents', 'students', 'homework', 'practice', 'success',\n",
    "       'english', 'university', 'congratulation']\n",
    "sum_ = 0\n",
    "list_sum = []\n",
    "for j in str:\n",
    "    for i in j: \n",
    "        sum_ += (ord(i)-96)\n",
    "    list_sum.append(sum_)\n",
    "    sum_ = 0\n",
    "list_sum\n",
    "    "
   ]
  },
  {
   "cell_type": "markdown",
   "metadata": {},
   "source": [
    "## bai tap 6: Viết code sinh các số fibonanci dưới 1000, lưu giữ kq vào 1 list."
   ]
  },
  {
   "cell_type": "code",
   "execution_count": 55,
   "metadata": {},
   "outputs": [
    {
     "data": {
      "text/plain": [
       "[0, 1, 1, 2, 3, 5, 8, 13, 21, 34, 55, 89, 144, 233, 377, 610, 987]"
      ]
     },
     "execution_count": 55,
     "metadata": {},
     "output_type": "execute_result"
    }
   ],
   "source": [
    "def fibonanci(n):\n",
    "    if (n == 0 ):\n",
    "        return 0\n",
    "    elif (n == 1):\n",
    "        return 1\n",
    "    else:\n",
    "        return fibonanci(n-2) + fibonanci(n-1)\n",
    "fibo_list = []\n",
    "n = 0\n",
    "while(fibonanci(n) < 1000):\n",
    "    fibo_list.append(fibonanci(n))\n",
    "    n += 1\n",
    "fibo_list"
   ]
  },
  {
   "cell_type": "markdown",
   "metadata": {},
   "source": [
    "## bai tap 7: Viết code sinh các số nguyên tố dưới 10000, lưu giữ kq vào 1 list."
   ]
  },
  {
   "cell_type": "code",
   "execution_count": 44,
   "metadata": {},
   "outputs": [
    {
     "data": {
      "text/plain": [
       "[2, 3, 5, 7, 11, 13, 17, 19, 23, 29]"
      ]
     },
     "execution_count": 44,
     "metadata": {},
     "output_type": "execute_result"
    }
   ],
   "source": [
    "import math\n",
    "def check(n):\n",
    "    for i in range(2,int(math.sqrt(n))+1,1):\n",
    "        if (n % i == 0):\n",
    "            return False\n",
    "    return True\n",
    "list_ = []\n",
    "n = 2\n",
    "while(n<10000):\n",
    "    if(check(n)):\n",
    "        list_.append(n)\n",
    "    n+=1\n",
    "list_[:10]"
   ]
  },
  {
   "cell_type": "markdown",
   "metadata": {},
   "source": [
    "## bai tap 8"
   ]
  },
  {
   "cell_type": "code",
   "execution_count": 11,
   "metadata": {},
   "outputs": [],
   "source": [
    "data = '''Python is an easy to learn, powerful programming language. It has efficient high-level data structures and a simple but effective approach to object-oriented programming. Python’s elegant syntax and dynamic typing, together with its interpreted nature, make it an ideal language for scripting and rapid application development in many areas on most platforms.\n",
    "The Python interpreter and the extensive standard library are freely available in source or binary form for all major platforms from the Python Web site, https://www.python.org/, and may be freely distributed. The same site also contains distributions of and pointers to many free third party Python modules, programs and tools, and additional documentation.\n",
    "The Python interpreter is easily extended with new functions and data types implemented in C or C++ (or other languages callable from C). Python is also suitable as an extension language for customizable applications.\n",
    "This tutorial introduces the reader informally to the basic concepts and features of the Python language and system. It helps to have a Python interpreter handy for hands-on experience, but all examples are self-contained, so the tutorial can be read off-line as well.\n",
    "For a description of standard objects and modules, see The Python Standard Library. The Python Language Reference gives a more formal definition of the language. To write extensions in C or C++, read Extending and Embedding the Python Interpreter and Python/C API Reference Manual. There are also several books covering Python in depth.\n",
    "This tutorial does not attempt to be comprehensive and cover every single feature, or even every commonly used feature. Instead, it introduces many of Python’s most noteworthy features, and will give you a good idea of the language’s flavor and style. After reading it, you will be able to read and write Python modules and programs, and you will be ready to learn more about the various Python library modules described in The Python Standard Library.'''"
   ]
  },
  {
   "cell_type": "code",
   "execution_count": 22,
   "metadata": {},
   "outputs": [
    {
     "data": {
      "text/plain": [
       "{'and': 20,\n",
       " 'Python': 15,\n",
       " 'the': 10,\n",
       " 'to': 8,\n",
       " 'in': 6,\n",
       " 'The': 6,\n",
       " 'of': 6,\n",
       " 'a': 5,\n",
       " 'be': 5,\n",
       " 'for': 4}"
      ]
     },
     "execution_count": 22,
     "metadata": {},
     "output_type": "execute_result"
    }
   ],
   "source": [
    "from collections import Counter\n",
    "word = data.split()\n",
    "x = Counter(word)\n",
    "dict(x.most_common(10))"
   ]
  },
  {
   "cell_type": "markdown",
   "metadata": {},
   "source": [
    "## bai tap 9"
   ]
  },
  {
   "cell_type": "code",
   "execution_count": 23,
   "metadata": {},
   "outputs": [],
   "source": [
    "A = [1, 2, 3, 4, 5, 6]\n",
    "B = [3, 4, 5, 6, 7, 8, 9, 10]"
   ]
  },
  {
   "cell_type": "code",
   "execution_count": 25,
   "metadata": {},
   "outputs": [
    {
     "data": {
      "text/plain": [
       "{1, 2, 3, 4, 5, 6, 7, 8, 9, 10}"
      ]
     },
     "execution_count": 25,
     "metadata": {},
     "output_type": "execute_result"
    }
   ],
   "source": [
    "## phan tu co trong ca A va B\n",
    "C = A +B\n",
    "set(C)"
   ]
  },
  {
   "cell_type": "code",
   "execution_count": 35,
   "metadata": {},
   "outputs": [
    {
     "data": {
      "text/plain": [
       "[1, 2]"
      ]
     },
     "execution_count": 35,
     "metadata": {},
     "output_type": "execute_result"
    }
   ],
   "source": [
    "## Chỉ có trong A\n",
    "CA = [i for i in A if i not in B ]\n",
    "CA"
   ]
  },
  {
   "cell_type": "code",
   "execution_count": 36,
   "metadata": {},
   "outputs": [
    {
     "data": {
      "text/plain": [
       "[7, 8, 9, 10]"
      ]
     },
     "execution_count": 36,
     "metadata": {},
     "output_type": "execute_result"
    }
   ],
   "source": [
    "## Chỉ có trong B\n",
    "CB = [i for i in B if i not in A ]\n",
    "CB"
   ]
  },
  {
   "cell_type": "code",
   "execution_count": 37,
   "metadata": {},
   "outputs": [
    {
     "data": {
      "text/plain": [
       "[1, 2, 7, 8, 9, 10]"
      ]
     },
     "execution_count": 37,
     "metadata": {},
     "output_type": "execute_result"
    }
   ],
   "source": [
    "## Chỉ có trong A hoặc B (mà không phải cả 2)\n",
    "CA + CB"
   ]
  },
  {
   "cell_type": "markdown",
   "metadata": {},
   "source": [
    "## bai tap 10"
   ]
  },
  {
   "cell_type": "code",
   "execution_count": 59,
   "metadata": {},
   "outputs": [
    {
     "data": {
      "text/plain": [
       "[(2000, 'Canh Thìn'),\n",
       " (2001, 'Tân Tỵ'),\n",
       " (2002, 'Nhâm Ngọ'),\n",
       " (2003, 'Quý Mùi'),\n",
       " (2004, 'Giáp Thân'),\n",
       " (2005, 'Ất Dậu'),\n",
       " (2006, 'Bính Tuất'),\n",
       " (2007, 'Đinh Hợi'),\n",
       " (2008, 'Mậu Tí'),\n",
       " (2009, 'Kỷ Sửu'),\n",
       " (2010, 'Canh Dần'),\n",
       " (2011, 'Tân Mẹo'),\n",
       " (2012, 'Nhâm Thìn'),\n",
       " (2013, 'Quý Tỵ'),\n",
       " (2014, 'Giáp Ngọ'),\n",
       " (2015, 'Ất Mùi'),\n",
       " (2016, 'Bính Thân'),\n",
       " (2017, 'Đinh Dậu'),\n",
       " (2018, 'Mậu Tuất'),\n",
       " (2019, 'Kỷ Hợi')]"
      ]
     },
     "execution_count": 59,
     "metadata": {},
     "output_type": "execute_result"
    }
   ],
   "source": [
    "thien_can = [\"Giáp\", \"Ất\", \"Bính\", \"Đinh\", \"Mậu\", \"Kỷ\", \"Canh\", \"Tân\", \"Nhâm\", \"Quý\"]\n",
    "thien_can_so = [5, 6, 7, 8, 9, 0, 1, 2, 3, 4]\n",
    "dia_chi = [\"Tí\", \"Sửu\", \"Dần\", \"Mẹo\", \"Thìn\", \"Tỵ\", \"Ngọ\", \"Mùi\", \"Thân\", \"Dậu\", \"Tuất\", \"Hợi\"]\n",
    "j = 6\n",
    "k = 0 \n",
    "years = []\n",
    "for i in range(1900,2020):\n",
    "    if (j > 9):\n",
    "        j = 0\n",
    "    if (k > 11):\n",
    "        k = 0\n",
    "    years.append((i, thien_can[j]+\" \"+dia_chi[k]))\n",
    "    j += 1\n",
    "    k +=1\n",
    "years[-20::]"
   ]
  },
  {
   "cell_type": "code",
   "execution_count": null,
   "metadata": {},
   "outputs": [],
   "source": []
  }
 ],
 "metadata": {
  "kernelspec": {
   "display_name": "Python 3",
   "language": "python",
   "name": "python3"
  },
  "language_info": {
   "codemirror_mode": {
    "name": "ipython",
    "version": 3
   },
   "file_extension": ".py",
   "mimetype": "text/x-python",
   "name": "python",
   "nbconvert_exporter": "python",
   "pygments_lexer": "ipython3",
   "version": "3.7.6"
  }
 },
 "nbformat": 4,
 "nbformat_minor": 4
}
